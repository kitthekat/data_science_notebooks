{
 "cells": [
  {
   "cell_type": "markdown",
   "metadata": {},
   "source": [
    "#### Christopher Kramer\n",
    "#### 2021-03-09\n",
    "## University Admittance Probability LogReg"
   ]
  },
  {
   "cell_type": "code",
   "execution_count": 57,
   "metadata": {},
   "outputs": [],
   "source": [
    "import sklearn # PCA, clustering\n",
    "import pandas as pd # used as ETE data structure, EDA/profiling\n",
    "import seaborn as sns # used for data import, 2d plots\n",
    "import matplotlib.pyplot as plt # used for 3d plots\n",
    "import matplotlib as mpl # used for 3d plots\n",
    "import numpy as np # used for typing\n",
    "from dataclasses import dataclass # used for profiling\n",
    "from pandas_profiling import ProfileReport\n",
    "\n",
    "import warnings\n",
    "\n",
    "from typing import NoReturn, Optional, Union # typing\n",
    "from mpl_toolkits.mplot3d import Axes3D # used for 3d plots\n",
    "from sklearn.compose import make_column_transformer\n",
    "\n",
    "from sklearn.preprocessing import OneHotEncoder\n",
    "from sklearn.preprocessing import MinMaxScaler\n",
    "\n",
    "sns.set_style('whitegrid')"
   ]
  },
  {
   "cell_type": "markdown",
   "metadata": {},
   "source": [
    "Find another dataset that is suitable for logistic regression. Run a logistic regression on the data using the statsmodel package. Print the results and interpret the parameter coefficients for each input variable: https://www.statsmodels.org/stable/index.html. Evaluate the model as well. "
   ]
  },
  {
   "cell_type": "markdown",
   "metadata": {},
   "source": [
    "Can the probability of university admission be predicted from test scores and university rating? https://www.kaggle.com/mohansacharya/graduate-admissions"
   ]
  },
  {
   "cell_type": "code",
   "execution_count": 45,
   "metadata": {},
   "outputs": [],
   "source": [
    "import statsmodels.api as sm"
   ]
  },
  {
   "cell_type": "code",
   "execution_count": 46,
   "metadata": {},
   "outputs": [],
   "source": [
    "data = pd.read_csv('Admission_Predict_Ver1.1.csv')"
   ]
  },
  {
   "cell_type": "code",
   "execution_count": 47,
   "metadata": {},
   "outputs": [
    {
     "data": {
      "text/plain": [
       "Index(['Serial No.', 'GRE Score', 'TOEFL Score', 'University Rating', 'SOP',\n",
       "       'LOR ', 'CGPA', 'Research', 'Chance of Admit '],\n",
       "      dtype='object')"
      ]
     },
     "execution_count": 47,
     "metadata": {},
     "output_type": "execute_result"
    }
   ],
   "source": [
    "data.columns"
   ]
  },
  {
   "cell_type": "code",
   "execution_count": 48,
   "metadata": {},
   "outputs": [],
   "source": [
    "data.columns = [c.strip().lower() for c in data.columns]"
   ]
  },
  {
   "cell_type": "code",
   "execution_count": 49,
   "metadata": {},
   "outputs": [
    {
     "data": {
      "text/plain": [
       "Index(['serial no.', 'gre score', 'toefl score', 'university rating', 'sop',\n",
       "       'lor', 'cgpa', 'research', 'chance of admit'],\n",
       "      dtype='object')"
      ]
     },
     "execution_count": 49,
     "metadata": {},
     "output_type": "execute_result"
    }
   ],
   "source": [
    "data.columns"
   ]
  },
  {
   "cell_type": "code",
   "execution_count": 50,
   "metadata": {},
   "outputs": [],
   "source": [
    "data = data.drop(['serial no.'], 1)"
   ]
  },
  {
   "cell_type": "code",
   "execution_count": 51,
   "metadata": {},
   "outputs": [],
   "source": [
    "X_train, X_test, y_train, y_test = train_test_split(data[data.columns[~data.columns.isin(['chance of admit'])]], data['chance of admit'], test_size=.3)"
   ]
  },
  {
   "cell_type": "code",
   "execution_count": 52,
   "metadata": {},
   "outputs": [
    {
     "name": "stdout",
     "output_type": "stream",
     "text": [
      "Optimization terminated successfully.\n",
      "         Current function value: 0.470192\n",
      "         Iterations 5\n"
     ]
    }
   ],
   "source": [
    "model = sm.Logit(endog=y_train, exog=X_train).fit()"
   ]
  },
  {
   "cell_type": "code",
   "execution_count": 53,
   "metadata": {},
   "outputs": [
    {
     "name": "stdout",
     "output_type": "stream",
     "text": [
      "                         Results: Logit\n",
      "================================================================\n",
      "Model:               Logit            Pseudo R-squared: -1.871  \n",
      "Dependent Variable:  chance of admit  AIC:              343.1347\n",
      "Date:                2021-03-12 13:49 BIC:              370.1402\n",
      "No. Observations:    350              Log-Likelihood:   -164.57 \n",
      "Df Model:            6                LL-Null:          -57.313 \n",
      "Df Residuals:        343              LLR p-value:      1.0000  \n",
      "Converged:           1.0000           Scale:            1.0000  \n",
      "No. Iterations:      5.0000                                     \n",
      "----------------------------------------------------------------\n",
      "                   Coef.  Std.Err.    z    P>|z|   [0.025 0.975]\n",
      "----------------------------------------------------------------\n",
      "gre score         -0.0257   0.0145 -1.7666 0.0773 -0.0542 0.0028\n",
      "toefl score        0.0183   0.0400  0.4578 0.6471 -0.0601 0.0968\n",
      "university rating  0.1113   0.1660  0.6705 0.5025 -0.2140 0.4366\n",
      "sop                0.0757   0.2008  0.3768 0.7063 -0.3179 0.4692\n",
      "lor                0.0774   0.1860  0.4161 0.6773 -0.2872 0.4421\n",
      "cgpa               0.7133   0.4318  1.6518 0.0986 -0.1331 1.5597\n",
      "research           0.3844   0.2692  1.4277 0.1534 -0.1433 0.9120\n",
      "================================================================\n",
      "\n"
     ]
    }
   ],
   "source": [
    "print(model.summary2())"
   ]
  },
  {
   "cell_type": "code",
   "execution_count": 54,
   "metadata": {},
   "outputs": [
    {
     "data": {
      "text/html": [
       "<div>\n",
       "<style scoped>\n",
       "    .dataframe tbody tr th:only-of-type {\n",
       "        vertical-align: middle;\n",
       "    }\n",
       "\n",
       "    .dataframe tbody tr th {\n",
       "        vertical-align: top;\n",
       "    }\n",
       "\n",
       "    .dataframe thead th {\n",
       "        text-align: right;\n",
       "    }\n",
       "</style>\n",
       "<table border=\"1\" class=\"dataframe\">\n",
       "  <thead>\n",
       "    <tr style=\"text-align: right;\">\n",
       "      <th></th>\n",
       "      <th>coef</th>\n",
       "      <th>exp_coef</th>\n",
       "    </tr>\n",
       "  </thead>\n",
       "  <tbody>\n",
       "    <tr>\n",
       "      <th>gre score</th>\n",
       "      <td>-0.025699</td>\n",
       "      <td>0.974629</td>\n",
       "    </tr>\n",
       "    <tr>\n",
       "      <th>toefl score</th>\n",
       "      <td>0.018329</td>\n",
       "      <td>1.018498</td>\n",
       "    </tr>\n",
       "    <tr>\n",
       "      <th>university rating</th>\n",
       "      <td>0.111278</td>\n",
       "      <td>1.117706</td>\n",
       "    </tr>\n",
       "    <tr>\n",
       "      <th>sop</th>\n",
       "      <td>0.075659</td>\n",
       "      <td>1.078595</td>\n",
       "    </tr>\n",
       "    <tr>\n",
       "      <th>lor</th>\n",
       "      <td>0.077419</td>\n",
       "      <td>1.080495</td>\n",
       "    </tr>\n",
       "    <tr>\n",
       "      <th>cgpa</th>\n",
       "      <td>0.713306</td>\n",
       "      <td>2.040727</td>\n",
       "    </tr>\n",
       "    <tr>\n",
       "      <th>research</th>\n",
       "      <td>0.384376</td>\n",
       "      <td>1.468697</td>\n",
       "    </tr>\n",
       "  </tbody>\n",
       "</table>\n",
       "</div>"
      ],
      "text/plain": [
       "                       coef  exp_coef\n",
       "gre score         -0.025699  0.974629\n",
       "toefl score        0.018329  1.018498\n",
       "university rating  0.111278  1.117706\n",
       "sop                0.075659  1.078595\n",
       "lor                0.077419  1.080495\n",
       "cgpa               0.713306  2.040727\n",
       "research           0.384376  1.468697"
      ]
     },
     "execution_count": 54,
     "metadata": {},
     "output_type": "execute_result"
    }
   ],
   "source": [
    "pd.DataFrame(zip(model.params, np.exp(model.params)), columns=['coef', 'exp_coef'], \n",
    "             index=data[data.columns[~data.columns.isin(['chance of admit'])]].columns.to_list())\n"
   ]
  },
  {
   "cell_type": "markdown",
   "metadata": {},
   "source": [
    "All other variables held constant, the odds of being admitted to a school increase by .97 for each increase in GRE test score. Cumulative GPA is the most impactful variable in terms of relative odds of admission increase per variable increase."
   ]
  },
  {
   "cell_type": "markdown",
   "metadata": {},
   "source": [
    "Unfortuantely, there are no statistically significant p-values amongst the variables. While cumulative GPA and GRE score come close to $\\alpha=.05$ significance and are the best predictors of admission chance, no single variable is promising. To correctly interpret the pseudo R-squared value, another model would need to be fit and compared.\n",
    "\n",
    "Finally, the LLR p-value shows that the model will almost certainly be outperformed (or at least not perform any worse than) another model which is fit."
   ]
  },
  {
   "cell_type": "code",
   "execution_count": null,
   "metadata": {},
   "outputs": [],
   "source": []
  }
 ],
 "metadata": {
  "kernelspec": {
   "display_name": "Python 3",
   "language": "python",
   "name": "python3"
  },
  "language_info": {
   "codemirror_mode": {
    "name": "ipython",
    "version": 3
   },
   "file_extension": ".py",
   "mimetype": "text/x-python",
   "name": "python",
   "nbconvert_exporter": "python",
   "pygments_lexer": "ipython3",
   "version": "3.8.1"
  }
 },
 "nbformat": 4,
 "nbformat_minor": 4
}
