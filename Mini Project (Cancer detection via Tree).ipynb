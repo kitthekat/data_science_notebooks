{
 "cells": [
  {
   "cell_type": "markdown",
   "metadata": {},
   "source": [
    "#### Christopher Kramer\n",
    "#### 2021-01-04\n",
    "## Cancer detection via Tree"
   ]
  },
  {
   "cell_type": "code",
   "execution_count": 1,
   "metadata": {},
   "outputs": [],
   "source": [
    "import pandas as pd\n",
    "import numpy as np\n",
    "import sklearn\n",
    "from io import StringIO\n",
    "from typing import Optional\n",
    "import seaborn as sns"
   ]
  },
  {
   "cell_type": "markdown",
   "metadata": {},
   "source": [
    "Find your own dataset suitable for classification with at least three input variables and 200 cases: You will build a decision tree classifier and a random forest classifier. Find some interesting dataset instead of the popular iris data, etc. Feel free to use a dataset suitable for classification from this link provided below or some other source of your choice: https://vincentarelbundock.github.io/Rdatasets/articles/data.html \n",
    "Address the following and include code/output snippets from b) to f). Include the response under each sub question. \n"
   ]
  },
  {
   "cell_type": "markdown",
   "metadata": {},
   "source": [
    "a)\tState your research question, for example: Are decision trees and random forest good models for predicting whether someone will default on a loan or not based on their age and income level? This is just an example, your dataset does not have to be (or should not be) about loans. "
   ]
  },
  {
   "cell_type": "markdown",
   "metadata": {},
   "source": [
    "Can the the presence of cancer in a digitized cell image be predicted through the features (image data extractions) provided in the UCI ML Breast Cancer Wisconsin (Diagnostic) dataset using a decision tree and random forest?"
   ]
  },
  {
   "cell_type": "code",
   "execution_count": 61,
   "metadata": {},
   "outputs": [],
   "source": [
    "from sklearn.datasets import load_breast_cancer"
   ]
  },
  {
   "cell_type": "code",
   "execution_count": 62,
   "metadata": {},
   "outputs": [],
   "source": [
    "cancer = load_breast_cancer(as_frame = True)"
   ]
  },
  {
   "cell_type": "code",
   "execution_count": 63,
   "metadata": {},
   "outputs": [
    {
     "name": "stdout",
     "output_type": "stream",
     "text": [
      ".. _breast_cancer_dataset:\n",
      "\n",
      "Breast cancer wisconsin (diagnostic) dataset\n",
      "--------------------------------------------\n",
      "\n",
      "**Data Set Characteristics:**\n",
      "\n",
      "    :Number of Instances: 569\n",
      "\n",
      "    :Number of Attributes: 30 numeric, predictive attributes and the class\n",
      "\n",
      "    :Attribute Information:\n",
      "        - radius (mean of distances from center to points on the perimeter)\n",
      "        - texture (standard deviation of gray-scale values)\n",
      "        - perimeter\n",
      "        - area\n",
      "        - smoothness (local variation in radius lengths)\n",
      "        - compactness (perimeter^2 / area - 1.0)\n",
      "        - concavity (severity of concave portions of the contour)\n",
      "        - concave points (number of concave portions of the contour)\n",
      "        - symmetry\n",
      "        - fractal dimension (\"coastline approximation\" - 1)\n",
      "\n",
      "        The mean, standard error, and \"worst\" or largest (mean of the three\n",
      "        worst/largest values) of these features were computed for each image,\n",
      "        resulting in 30 features.  For instance, field 0 is Mean Radius, field\n",
      "        10 is Radius SE, field 20 is Worst Radius.\n",
      "\n",
      "        - class:\n",
      "                - WDBC-Malignant\n",
      "                - WDBC-Benign\n",
      "\n",
      "    :Summary Statistics:\n",
      "\n",
      "    ===================================== ====== ======\n",
      "                                           Min    Max\n",
      "    ===================================== ====== ======\n",
      "    radius (mean):                        6.981  28.11\n",
      "    texture (mean):                       9.71   39.28\n",
      "    perimeter (mean):                     43.79  188.5\n",
      "    area (mean):                          143.5  2501.0\n",
      "    smoothness (mean):                    0.053  0.163\n",
      "    compactness (mean):                   0.019  0.345\n",
      "    concavity (mean):                     0.0    0.427\n",
      "    concave points (mean):                0.0    0.201\n",
      "    symmetry (mean):                      0.106  0.304\n",
      "    fractal dimension (mean):             0.05   0.097\n",
      "    radius (standard error):              0.112  2.873\n",
      "    texture (standard error):             0.36   4.885\n",
      "    perimeter (standard error):           0.757  21.98\n",
      "    area (standard error):                6.802  542.2\n",
      "    smoothness (standard error):          0.002  0.031\n",
      "    compactness (standard error):         0.002  0.135\n",
      "    concavity (standard error):           0.0    0.396\n",
      "    concave points (standard error):      0.0    0.053\n",
      "    symmetry (standard error):            0.008  0.079\n",
      "    fractal dimension (standard error):   0.001  0.03\n",
      "    radius (worst):                       7.93   36.04\n",
      "    texture (worst):                      12.02  49.54\n",
      "    perimeter (worst):                    50.41  251.2\n",
      "    area (worst):                         185.2  4254.0\n",
      "    smoothness (worst):                   0.071  0.223\n",
      "    compactness (worst):                  0.027  1.058\n",
      "    concavity (worst):                    0.0    1.252\n",
      "    concave points (worst):               0.0    0.291\n",
      "    symmetry (worst):                     0.156  0.664\n",
      "    fractal dimension (worst):            0.055  0.208\n",
      "    ===================================== ====== ======\n",
      "\n",
      "    :Missing Attribute Values: None\n",
      "\n",
      "    :Class Distribution: 212 - Malignant, 357 - Benign\n",
      "\n",
      "    :Creator:  Dr. William H. Wolberg, W. Nick Street, Olvi L. Mangasarian\n",
      "\n",
      "    :Donor: Nick Street\n",
      "\n",
      "    :Date: November, 1995\n",
      "\n",
      "This is a copy of UCI ML Breast Cancer Wisconsin (Diagnostic) datasets.\n",
      "https://goo.gl/U2Uwz2\n",
      "\n",
      "Features are computed from a digitized image of a fine needle\n",
      "aspirate (FNA) of a breast mass.  They describe\n",
      "characteristics of the cell nuclei present in the image.\n",
      "\n",
      "Separating plane described above was obtained using\n",
      "Multisurface Method-Tree (MSM-T) [K. P. Bennett, \"Decision Tree\n",
      "Construction Via Linear Programming.\" Proceedings of the 4th\n",
      "Midwest Artificial Intelligence and Cognitive Science Society,\n",
      "pp. 97-101, 1992], a classification method which uses linear\n",
      "programming to construct a decision tree.  Relevant features\n",
      "were selected using an exhaustive search in the space of 1-4\n",
      "features and 1-3 separating planes.\n",
      "\n",
      "The actual linear program used to obtain the separating plane\n",
      "in the 3-dimensional space is that described in:\n",
      "[K. P. Bennett and O. L. Mangasarian: \"Robust Linear\n",
      "Programming Discrimination of Two Linearly Inseparable Sets\",\n",
      "Optimization Methods and Software 1, 1992, 23-34].\n",
      "\n",
      "This database is also available through the UW CS ftp server:\n",
      "\n",
      "ftp ftp.cs.wisc.edu\n",
      "cd math-prog/cpo-dataset/machine-learn/WDBC/\n",
      "\n",
      ".. topic:: References\n",
      "\n",
      "   - W.N. Street, W.H. Wolberg and O.L. Mangasarian. Nuclear feature extraction \n",
      "     for breast tumor diagnosis. IS&T/SPIE 1993 International Symposium on \n",
      "     Electronic Imaging: Science and Technology, volume 1905, pages 861-870,\n",
      "     San Jose, CA, 1993.\n",
      "   - O.L. Mangasarian, W.N. Street and W.H. Wolberg. Breast cancer diagnosis and \n",
      "     prognosis via linear programming. Operations Research, 43(4), pages 570-577, \n",
      "     July-August 1995.\n",
      "   - W.H. Wolberg, W.N. Street, and O.L. Mangasarian. Machine learning techniques\n",
      "     to diagnose breast cancer from fine-needle aspirates. Cancer Letters 77 (1994) \n",
      "     163-171.\n"
     ]
    }
   ],
   "source": [
    "print(cancer['DESCR'])"
   ]
  },
  {
   "cell_type": "markdown",
   "metadata": {},
   "source": [
    "b)\tData pre-processing (to the extent deemed necessary)"
   ]
  },
  {
   "cell_type": "code",
   "execution_count": 64,
   "metadata": {},
   "outputs": [],
   "source": [
    "df = cancer['frame']"
   ]
  },
  {
   "cell_type": "code",
   "execution_count": 66,
   "metadata": {},
   "outputs": [],
   "source": [
    "def min_max(x: pd.Series) -> pd.Series:\n",
    "    return (x - x.min())/(x.max()-x.min())\n",
    "\n",
    "def minmax_column_helper(x: str):\n",
    "    df[x] = min_max(df[x])"
   ]
  },
  {
   "cell_type": "code",
   "execution_count": 67,
   "metadata": {},
   "outputs": [
    {
     "data": {
      "text/plain": [
       "[]"
      ]
     },
     "execution_count": 67,
     "metadata": {},
     "output_type": "execute_result"
    }
   ],
   "source": [
    "list(filter(minmax_column_helper, df.columns[~df.columns.isin(['target'])]))"
   ]
  },
  {
   "cell_type": "code",
   "execution_count": 68,
   "metadata": {},
   "outputs": [
    {
     "data": {
      "text/html": [
       "<div>\n",
       "<style scoped>\n",
       "    .dataframe tbody tr th:only-of-type {\n",
       "        vertical-align: middle;\n",
       "    }\n",
       "\n",
       "    .dataframe tbody tr th {\n",
       "        vertical-align: top;\n",
       "    }\n",
       "\n",
       "    .dataframe thead th {\n",
       "        text-align: right;\n",
       "    }\n",
       "</style>\n",
       "<table border=\"1\" class=\"dataframe\">\n",
       "  <thead>\n",
       "    <tr style=\"text-align: right;\">\n",
       "      <th></th>\n",
       "      <th>mean radius</th>\n",
       "      <th>mean texture</th>\n",
       "      <th>mean perimeter</th>\n",
       "      <th>mean area</th>\n",
       "      <th>mean smoothness</th>\n",
       "      <th>mean compactness</th>\n",
       "      <th>mean concavity</th>\n",
       "      <th>mean concave points</th>\n",
       "      <th>mean symmetry</th>\n",
       "      <th>mean fractal dimension</th>\n",
       "      <th>...</th>\n",
       "      <th>worst texture</th>\n",
       "      <th>worst perimeter</th>\n",
       "      <th>worst area</th>\n",
       "      <th>worst smoothness</th>\n",
       "      <th>worst compactness</th>\n",
       "      <th>worst concavity</th>\n",
       "      <th>worst concave points</th>\n",
       "      <th>worst symmetry</th>\n",
       "      <th>worst fractal dimension</th>\n",
       "      <th>target</th>\n",
       "    </tr>\n",
       "  </thead>\n",
       "  <tbody>\n",
       "    <tr>\n",
       "      <th>92</th>\n",
       "      <td>0.297648</td>\n",
       "      <td>0.170781</td>\n",
       "      <td>0.282980</td>\n",
       "      <td>0.173150</td>\n",
       "      <td>0.188860</td>\n",
       "      <td>0.095608</td>\n",
       "      <td>0.076406</td>\n",
       "      <td>0.131610</td>\n",
       "      <td>0.164646</td>\n",
       "      <td>0.067818</td>\n",
       "      <td>...</td>\n",
       "      <td>0.275320</td>\n",
       "      <td>0.269386</td>\n",
       "      <td>0.158622</td>\n",
       "      <td>0.194347</td>\n",
       "      <td>0.093634</td>\n",
       "      <td>0.107827</td>\n",
       "      <td>0.343986</td>\n",
       "      <td>0.091070</td>\n",
       "      <td>0.046045</td>\n",
       "      <td>1</td>\n",
       "    </tr>\n",
       "    <tr>\n",
       "      <th>437</th>\n",
       "      <td>0.334091</td>\n",
       "      <td>0.212039</td>\n",
       "      <td>0.317808</td>\n",
       "      <td>0.198388</td>\n",
       "      <td>0.288435</td>\n",
       "      <td>0.121373</td>\n",
       "      <td>0.082802</td>\n",
       "      <td>0.146322</td>\n",
       "      <td>0.330303</td>\n",
       "      <td>0.189975</td>\n",
       "      <td>...</td>\n",
       "      <td>0.254797</td>\n",
       "      <td>0.252951</td>\n",
       "      <td>0.138812</td>\n",
       "      <td>0.319157</td>\n",
       "      <td>0.094993</td>\n",
       "      <td>0.089217</td>\n",
       "      <td>0.256117</td>\n",
       "      <td>0.228662</td>\n",
       "      <td>0.113472</td>\n",
       "      <td>1</td>\n",
       "    </tr>\n",
       "    <tr>\n",
       "      <th>542</th>\n",
       "      <td>0.367220</td>\n",
       "      <td>0.531282</td>\n",
       "      <td>0.351807</td>\n",
       "      <td>0.222736</td>\n",
       "      <td>0.271915</td>\n",
       "      <td>0.161831</td>\n",
       "      <td>0.096181</td>\n",
       "      <td>0.150447</td>\n",
       "      <td>0.393939</td>\n",
       "      <td>0.144061</td>\n",
       "      <td>...</td>\n",
       "      <td>0.540245</td>\n",
       "      <td>0.283829</td>\n",
       "      <td>0.157589</td>\n",
       "      <td>0.230007</td>\n",
       "      <td>0.107023</td>\n",
       "      <td>0.128674</td>\n",
       "      <td>0.376289</td>\n",
       "      <td>0.228070</td>\n",
       "      <td>0.095238</td>\n",
       "      <td>1</td>\n",
       "    </tr>\n",
       "    <tr>\n",
       "      <th>342</th>\n",
       "      <td>0.193052</td>\n",
       "      <td>0.177545</td>\n",
       "      <td>0.191417</td>\n",
       "      <td>0.097731</td>\n",
       "      <td>0.457434</td>\n",
       "      <td>0.219588</td>\n",
       "      <td>0.126453</td>\n",
       "      <td>0.166054</td>\n",
       "      <td>0.361616</td>\n",
       "      <td>0.402485</td>\n",
       "      <td>...</td>\n",
       "      <td>0.210021</td>\n",
       "      <td>0.146173</td>\n",
       "      <td>0.062623</td>\n",
       "      <td>0.466420</td>\n",
       "      <td>0.187938</td>\n",
       "      <td>0.183626</td>\n",
       "      <td>0.369416</td>\n",
       "      <td>0.342204</td>\n",
       "      <td>0.234553</td>\n",
       "      <td>1</td>\n",
       "    </tr>\n",
       "    <tr>\n",
       "      <th>497</th>\n",
       "      <td>0.259785</td>\n",
       "      <td>0.257017</td>\n",
       "      <td>0.253334</td>\n",
       "      <td>0.142778</td>\n",
       "      <td>0.330866</td>\n",
       "      <td>0.174591</td>\n",
       "      <td>0.084560</td>\n",
       "      <td>0.117744</td>\n",
       "      <td>0.235354</td>\n",
       "      <td>0.221146</td>\n",
       "      <td>...</td>\n",
       "      <td>0.328358</td>\n",
       "      <td>0.211216</td>\n",
       "      <td>0.103741</td>\n",
       "      <td>0.372647</td>\n",
       "      <td>0.216656</td>\n",
       "      <td>0.161981</td>\n",
       "      <td>0.361856</td>\n",
       "      <td>0.289769</td>\n",
       "      <td>0.141480</td>\n",
       "      <td>1</td>\n",
       "    </tr>\n",
       "  </tbody>\n",
       "</table>\n",
       "<p>5 rows × 31 columns</p>\n",
       "</div>"
      ],
      "text/plain": [
       "     mean radius  mean texture  mean perimeter  mean area  mean smoothness  \\\n",
       "92      0.297648      0.170781        0.282980   0.173150         0.188860   \n",
       "437     0.334091      0.212039        0.317808   0.198388         0.288435   \n",
       "542     0.367220      0.531282        0.351807   0.222736         0.271915   \n",
       "342     0.193052      0.177545        0.191417   0.097731         0.457434   \n",
       "497     0.259785      0.257017        0.253334   0.142778         0.330866   \n",
       "\n",
       "     mean compactness  mean concavity  mean concave points  mean symmetry  \\\n",
       "92           0.095608        0.076406             0.131610       0.164646   \n",
       "437          0.121373        0.082802             0.146322       0.330303   \n",
       "542          0.161831        0.096181             0.150447       0.393939   \n",
       "342          0.219588        0.126453             0.166054       0.361616   \n",
       "497          0.174591        0.084560             0.117744       0.235354   \n",
       "\n",
       "     mean fractal dimension  ...  worst texture  worst perimeter  worst area  \\\n",
       "92                 0.067818  ...       0.275320         0.269386    0.158622   \n",
       "437                0.189975  ...       0.254797         0.252951    0.138812   \n",
       "542                0.144061  ...       0.540245         0.283829    0.157589   \n",
       "342                0.402485  ...       0.210021         0.146173    0.062623   \n",
       "497                0.221146  ...       0.328358         0.211216    0.103741   \n",
       "\n",
       "     worst smoothness  worst compactness  worst concavity  \\\n",
       "92           0.194347           0.093634         0.107827   \n",
       "437          0.319157           0.094993         0.089217   \n",
       "542          0.230007           0.107023         0.128674   \n",
       "342          0.466420           0.187938         0.183626   \n",
       "497          0.372647           0.216656         0.161981   \n",
       "\n",
       "     worst concave points  worst symmetry  worst fractal dimension  target  \n",
       "92               0.343986        0.091070                 0.046045       1  \n",
       "437              0.256117        0.228662                 0.113472       1  \n",
       "542              0.376289        0.228070                 0.095238       1  \n",
       "342              0.369416        0.342204                 0.234553       1  \n",
       "497              0.361856        0.289769                 0.141480       1  \n",
       "\n",
       "[5 rows x 31 columns]"
      ]
     },
     "execution_count": 68,
     "metadata": {},
     "output_type": "execute_result"
    }
   ],
   "source": [
    "df.sample(5)"
   ]
  },
  {
   "cell_type": "markdown",
   "metadata": {},
   "source": [
    "c)\tData splitting "
   ]
  },
  {
   "cell_type": "code",
   "execution_count": 69,
   "metadata": {},
   "outputs": [],
   "source": [
    "X_train, X_test, y_train, y_test = train_test_split(df[df.columns[~df.columns.isin(['target'])]], \n",
    "                                                    df['target'], \n",
    "                                                    test_size=.3, \n",
    "                                                    random_state=66)"
   ]
  },
  {
   "cell_type": "markdown",
   "metadata": {},
   "source": [
    "d)\tModel construction (a decision tree and a random forest)"
   ]
  },
  {
   "cell_type": "code",
   "execution_count": 70,
   "metadata": {},
   "outputs": [],
   "source": [
    "from sklearn.ensemble import RandomForestClassifier"
   ]
  },
  {
   "cell_type": "markdown",
   "metadata": {},
   "source": [
    "DecisionTree:"
   ]
  },
  {
   "cell_type": "code",
   "execution_count": 71,
   "metadata": {},
   "outputs": [],
   "source": [
    "dt_clf = DecisionTreeClassifier(random_state=42)"
   ]
  },
  {
   "cell_type": "code",
   "execution_count": 72,
   "metadata": {},
   "outputs": [
    {
     "data": {
      "text/plain": [
       "DecisionTreeClassifier(random_state=42)"
      ]
     },
     "execution_count": 72,
     "metadata": {},
     "output_type": "execute_result"
    }
   ],
   "source": [
    "dt_clf.fit(X_train, y_train)"
   ]
  },
  {
   "cell_type": "markdown",
   "metadata": {},
   "source": [
    "RandomForest:"
   ]
  },
  {
   "cell_type": "code",
   "execution_count": 75,
   "metadata": {},
   "outputs": [],
   "source": [
    "rf_clf = RandomForestClassifier(random_state=42)"
   ]
  },
  {
   "cell_type": "code",
   "execution_count": 76,
   "metadata": {},
   "outputs": [
    {
     "data": {
      "text/plain": [
       "RandomForestClassifier(random_state=42)"
      ]
     },
     "execution_count": 76,
     "metadata": {},
     "output_type": "execute_result"
    }
   ],
   "source": [
    "rf_clf.fit(X_train, y_train)"
   ]
  },
  {
   "cell_type": "markdown",
   "metadata": {},
   "source": [
    "e)\tHyperparameter turning (for each model, tune the hyperparameter that is important to you and use any of the methods for hyperparameter tuning learned in class such as cross validation with for loop, gridsearch cross validation, etc. You could tune more than a single parameter for each model if you want). "
   ]
  },
  {
   "cell_type": "markdown",
   "metadata": {},
   "source": [
    "DecisionTree:"
   ]
  },
  {
   "cell_type": "code",
   "execution_count": 79,
   "metadata": {},
   "outputs": [],
   "source": [
    "dt_grid = GridSearchCV(dt_clf, \n",
    "                    {\n",
    "                        'max_depth': range(1, dt_clf.tree_.max_depth+1),\n",
    "                        'criterion': [\"gini\", \"entropy\"],\n",
    "                        'splitter': [\"best\", \"random\"],\n",
    "                        'max_features': [\"auto\", \"sqrt\", \"log2\"]\n",
    "                    },\n",
    "                    cv=8\n",
    "                   )"
   ]
  },
  {
   "cell_type": "code",
   "execution_count": 80,
   "metadata": {},
   "outputs": [
    {
     "data": {
      "text/plain": [
       "GridSearchCV(cv=8, estimator=DecisionTreeClassifier(random_state=42),\n",
       "             param_grid={'criterion': ['gini', 'entropy'],\n",
       "                         'max_depth': range(1, 9),\n",
       "                         'max_features': ['auto', 'sqrt', 'log2'],\n",
       "                         'splitter': ['best', 'random']})"
      ]
     },
     "execution_count": 80,
     "metadata": {},
     "output_type": "execute_result"
    }
   ],
   "source": [
    "dt_grid.fit(X_train, y_train)"
   ]
  },
  {
   "cell_type": "code",
   "execution_count": 82,
   "metadata": {},
   "outputs": [
    {
     "data": {
      "text/plain": [
       "{'criterion': 'entropy',\n",
       " 'max_depth': 4,\n",
       " 'max_features': 'log2',\n",
       " 'splitter': 'best'}"
      ]
     },
     "execution_count": 82,
     "metadata": {},
     "output_type": "execute_result"
    }
   ],
   "source": [
    "dt_grid.best_params_"
   ]
  },
  {
   "cell_type": "markdown",
   "metadata": {},
   "source": [
    "RandomForest:"
   ]
  },
  {
   "cell_type": "code",
   "execution_count": 83,
   "metadata": {},
   "outputs": [],
   "source": [
    "rf_grid = GridSearchCV(rf_clf, \n",
    "                    {\n",
    "                        'n_estimators': range(50, 501, 50),\n",
    "                        'max_depth': range(1, dt_clf.tree_.max_depth+1), #using max_depth of DecisionTree since default is None for RandomForest\n",
    "                        'criterion': [\"gini\", \"entropy\"],\n",
    "#                         'splitter': [\"best\", \"random\"],\n",
    "                        'max_features': [\"auto\", \"sqrt\", \"log2\"],\n",
    "                    },\n",
    "                    cv=8,\n",
    "                    verbose=1,\n",
    "                    n_jobs=-1\n",
    "                   )"
   ]
  },
  {
   "cell_type": "code",
   "execution_count": 84,
   "metadata": {},
   "outputs": [
    {
     "name": "stdout",
     "output_type": "stream",
     "text": [
      "Fitting 8 folds for each of 480 candidates, totalling 3840 fits\n"
     ]
    },
    {
     "name": "stderr",
     "output_type": "stream",
     "text": [
      "[Parallel(n_jobs=-1)]: Using backend LokyBackend with 16 concurrent workers.\n",
      "[Parallel(n_jobs=-1)]: Done  18 tasks      | elapsed:    1.8s\n",
      "[Parallel(n_jobs=-1)]: Done 168 tasks      | elapsed:    6.8s\n",
      "[Parallel(n_jobs=-1)]: Done 418 tasks      | elapsed:   15.2s\n",
      "[Parallel(n_jobs=-1)]: Done 768 tasks      | elapsed:   27.7s\n",
      "[Parallel(n_jobs=-1)]: Done 1218 tasks      | elapsed:   45.5s\n",
      "[Parallel(n_jobs=-1)]: Done 1768 tasks      | elapsed:  1.1min\n",
      "[Parallel(n_jobs=-1)]: Done 2418 tasks      | elapsed:  1.6min\n",
      "[Parallel(n_jobs=-1)]: Done 3168 tasks      | elapsed:  2.1min\n",
      "[Parallel(n_jobs=-1)]: Done 3840 out of 3840 | elapsed:  2.6min finished\n"
     ]
    },
    {
     "data": {
      "text/plain": [
       "GridSearchCV(cv=8, estimator=RandomForestClassifier(random_state=42), n_jobs=-1,\n",
       "             param_grid={'criterion': ['gini', 'entropy'],\n",
       "                         'max_depth': range(1, 9),\n",
       "                         'max_features': ['auto', 'sqrt', 'log2'],\n",
       "                         'n_estimators': range(50, 501, 50)},\n",
       "             verbose=1)"
      ]
     },
     "execution_count": 84,
     "metadata": {},
     "output_type": "execute_result"
    }
   ],
   "source": [
    "rf_grid.fit(X_train, y_train)"
   ]
  },
  {
   "cell_type": "code",
   "execution_count": 85,
   "metadata": {},
   "outputs": [],
   "source": [
    "import joblib"
   ]
  },
  {
   "cell_type": "code",
   "execution_count": 86,
   "metadata": {},
   "outputs": [
    {
     "data": {
      "text/plain": [
       "['random_forest_grid.joblib']"
      ]
     },
     "execution_count": 86,
     "metadata": {},
     "output_type": "execute_result"
    }
   ],
   "source": [
    "joblib.dump(rf_grid, 'random_forest_grid.joblib')"
   ]
  },
  {
   "cell_type": "code",
   "execution_count": 87,
   "metadata": {},
   "outputs": [
    {
     "data": {
      "text/plain": [
       "{'criterion': 'entropy',\n",
       " 'max_depth': 7,\n",
       " 'max_features': 'auto',\n",
       " 'n_estimators': 150}"
      ]
     },
     "execution_count": 87,
     "metadata": {},
     "output_type": "execute_result"
    }
   ],
   "source": [
    "rf_grid.best_params_"
   ]
  },
  {
   "cell_type": "markdown",
   "metadata": {},
   "source": [
    "f)\tUse the best or optimal parameter values to build a model, then compute the accuracy score for the decision tree and for the random forest). "
   ]
  },
  {
   "cell_type": "code",
   "execution_count": 88,
   "metadata": {},
   "outputs": [],
   "source": [
    "accuracy_scores = pd.DataFrame([[DecisionTreeClassifier(random_state=2).fit(X_train, y_train)],\n",
    "                                [DecisionTreeClassifier(random_state=2, **dt_grid.best_params_).fit(X_train, y_train)],\n",
    "                               [RandomForestClassifier(random_state=2).fit(X_train, y_train)],\n",
    "                               [RandomForestClassifier(random_state=2, **rf_grid.best_params_).fit(X_train, y_train)]], \n",
    "                               columns=['Model'])"
   ]
  },
  {
   "cell_type": "code",
   "execution_count": 89,
   "metadata": {},
   "outputs": [],
   "source": [
    "accuracy_scores['Name'] = ['Default DecisionTree', \n",
    "                           'GridSearchCV DecisionTree', \n",
    "                           'Default RandomForest', \n",
    "                           'GridSearchCV RandomForest']\n",
    "accuracy_scores['Training Accuracy'] = accuracy_scores['Model'].apply(lambda x: accuracy_score(y_train, \n",
    "                                                                                               x.predict(X_train)))\n",
    "accuracy_scores['Testing/Validation Accuracy'] = accuracy_scores['Model'].apply(lambda x: accuracy_score(y_test, \n",
    "                                                                                                         x.predict(X_test)))"
   ]
  },
  {
   "cell_type": "code",
   "execution_count": 90,
   "metadata": {},
   "outputs": [
    {
     "data": {
      "text/html": [
       "<div>\n",
       "<style scoped>\n",
       "    .dataframe tbody tr th:only-of-type {\n",
       "        vertical-align: middle;\n",
       "    }\n",
       "\n",
       "    .dataframe tbody tr th {\n",
       "        vertical-align: top;\n",
       "    }\n",
       "\n",
       "    .dataframe thead th {\n",
       "        text-align: right;\n",
       "    }\n",
       "</style>\n",
       "<table border=\"1\" class=\"dataframe\">\n",
       "  <thead>\n",
       "    <tr style=\"text-align: right;\">\n",
       "      <th></th>\n",
       "      <th>Model</th>\n",
       "      <th>Name</th>\n",
       "      <th>Training Accuracy</th>\n",
       "      <th>Testing/Validation Accuracy</th>\n",
       "    </tr>\n",
       "  </thead>\n",
       "  <tbody>\n",
       "    <tr>\n",
       "      <th>0</th>\n",
       "      <td>DecisionTreeClassifier(random_state=2)</td>\n",
       "      <td>Default DecisionTree</td>\n",
       "      <td>1.000000</td>\n",
       "      <td>0.941520</td>\n",
       "    </tr>\n",
       "    <tr>\n",
       "      <th>1</th>\n",
       "      <td>DecisionTreeClassifier(criterion='entropy', ma...</td>\n",
       "      <td>GridSearchCV DecisionTree</td>\n",
       "      <td>0.969849</td>\n",
       "      <td>0.941520</td>\n",
       "    </tr>\n",
       "    <tr>\n",
       "      <th>2</th>\n",
       "      <td>(DecisionTreeClassifier(max_features='auto', r...</td>\n",
       "      <td>Default RandomForest</td>\n",
       "      <td>1.000000</td>\n",
       "      <td>0.959064</td>\n",
       "    </tr>\n",
       "    <tr>\n",
       "      <th>3</th>\n",
       "      <td>(DecisionTreeClassifier(criterion='entropy', m...</td>\n",
       "      <td>GridSearchCV RandomForest</td>\n",
       "      <td>1.000000</td>\n",
       "      <td>0.970760</td>\n",
       "    </tr>\n",
       "  </tbody>\n",
       "</table>\n",
       "</div>"
      ],
      "text/plain": [
       "                                               Model  \\\n",
       "0             DecisionTreeClassifier(random_state=2)   \n",
       "1  DecisionTreeClassifier(criterion='entropy', ma...   \n",
       "2  (DecisionTreeClassifier(max_features='auto', r...   \n",
       "3  (DecisionTreeClassifier(criterion='entropy', m...   \n",
       "\n",
       "                        Name  Training Accuracy  Testing/Validation Accuracy  \n",
       "0       Default DecisionTree           1.000000                     0.941520  \n",
       "1  GridSearchCV DecisionTree           0.969849                     0.941520  \n",
       "2       Default RandomForest           1.000000                     0.959064  \n",
       "3  GridSearchCV RandomForest           1.000000                     0.970760  "
      ]
     },
     "execution_count": 90,
     "metadata": {},
     "output_type": "execute_result"
    }
   ],
   "source": [
    "accuracy_scores"
   ]
  },
  {
   "cell_type": "markdown",
   "metadata": {},
   "source": [
    "While the DecisionTree models share the same testing accuracy, the tuned hyperparameter model has some additional loss against training data. Of the two RandomForest models, the tuned hyperparameter model performs best against training data, and is also the best overall model."
   ]
  },
  {
   "cell_type": "markdown",
   "metadata": {},
   "source": [
    "g)\tDiscuss about overfitting for both models and, also discuss which model is better for classification for your dataset and why? "
   ]
  },
  {
   "cell_type": "markdown",
   "metadata": {},
   "source": [
    "The most evident example of overfitting with this model set occurs with the DecisionTree models. The default model shows training accuracy at 100%, with testing at ~94.15%. The cross-validated grid search implementation loses training accuracy, but maintains the same testing score. This is probably because some overfitting was reduced during the cross-validation fitting process. While there is no tangible improvement to testing accuracy, the cross-validated model is still most likely the best model, since it hypothetically generalizes better with less overfitting.\n",
    "\n",
    "There is not obvious evidence for overfitting with the RandomForest models, although cross-validation provides boosted testing performance.\n",
    "\n",
    "Overall, the RandomForest model seems the best fit for the use case given its overall validation score."
   ]
  }
 ],
 "metadata": {
  "kernelspec": {
   "display_name": "Python 3",
   "language": "python",
   "name": "python3"
  },
  "language_info": {
   "codemirror_mode": {
    "name": "ipython",
    "version": 3
   },
   "file_extension": ".py",
   "mimetype": "text/x-python",
   "name": "python",
   "nbconvert_exporter": "python",
   "pygments_lexer": "ipython3",
   "version": "3.8.1"
  }
 },
 "nbformat": 4,
 "nbformat_minor": 4
}
