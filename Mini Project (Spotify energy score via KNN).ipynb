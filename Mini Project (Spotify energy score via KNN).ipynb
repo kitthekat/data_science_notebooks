{
 "cells": [
  {
   "cell_type": "markdown",
   "metadata": {},
   "source": [
    "#### Christopher Kramer\n",
    "#### 2021-01-04\n",
    "## Spotify energy score via KNN"
   ]
  },
  {
   "cell_type": "code",
   "execution_count": 1,
   "metadata": {},
   "outputs": [],
   "source": [
    "import pandas as pd\n",
    "import numpy as np\n",
    "from itertools import repeat\n",
    "from typing import Union\n",
    "import seaborn as sns\n",
    "from collections import Counter"
   ]
  },
  {
   "cell_type": "markdown",
   "metadata": {},
   "source": [
    "Find your own dataset suitable for classification or regression with at least three input variables and 200 or more cases: Depending on the target variable of interest, you would build a k-nearest neighbor classifier or regressor using the appropriate sklearn estimator. Find some interesting unique dataset that is not popularly used in the internet. \n",
    "Address the following and include code/output snippets from b) to f). Include the response under each sub question. \n"
   ]
  },
  {
   "cell_type": "markdown",
   "metadata": {},
   "source": [
    "a)\tState your research question \n"
   ]
  },
  {
   "cell_type": "markdown",
   "metadata": {},
   "source": [
    "Can Spotify's \"energy\" score (user-generated aggregate metric) be predicted from Spotify song metadata using KNN regression?\n",
    "\n",
    "Data from: https://www.kaggle.com/yamaerenay/spotify-dataset-19212020-160k-tracks"
   ]
  },
  {
   "cell_type": "markdown",
   "metadata": {},
   "source": [
    "b)\tData pre-processing (to the extent deemed necessary: remember the knn algorithm depends on distances, so you need to rescale, normalize or standardize your input values to make sure no variable influences the predictions due to it scale). \n"
   ]
  },
  {
   "cell_type": "code",
   "execution_count": 56,
   "metadata": {},
   "outputs": [],
   "source": [
    "spotify = pd.read_csv('data.csv')"
   ]
  },
  {
   "cell_type": "code",
   "execution_count": 57,
   "metadata": {},
   "outputs": [
    {
     "data": {
      "text/html": [
       "<div>\n",
       "<style scoped>\n",
       "    .dataframe tbody tr th:only-of-type {\n",
       "        vertical-align: middle;\n",
       "    }\n",
       "\n",
       "    .dataframe tbody tr th {\n",
       "        vertical-align: top;\n",
       "    }\n",
       "\n",
       "    .dataframe thead th {\n",
       "        text-align: right;\n",
       "    }\n",
       "</style>\n",
       "<table border=\"1\" class=\"dataframe\">\n",
       "  <thead>\n",
       "    <tr style=\"text-align: right;\">\n",
       "      <th></th>\n",
       "      <th>acousticness</th>\n",
       "      <th>artists</th>\n",
       "      <th>danceability</th>\n",
       "      <th>duration_ms</th>\n",
       "      <th>energy</th>\n",
       "      <th>explicit</th>\n",
       "      <th>id</th>\n",
       "      <th>instrumentalness</th>\n",
       "      <th>key</th>\n",
       "      <th>liveness</th>\n",
       "      <th>loudness</th>\n",
       "      <th>mode</th>\n",
       "      <th>name</th>\n",
       "      <th>popularity</th>\n",
       "      <th>release_date</th>\n",
       "      <th>speechiness</th>\n",
       "      <th>tempo</th>\n",
       "      <th>valence</th>\n",
       "      <th>year</th>\n",
       "    </tr>\n",
       "  </thead>\n",
       "  <tbody>\n",
       "    <tr>\n",
       "      <th>18674</th>\n",
       "      <td>0.2200</td>\n",
       "      <td>['Ty Dolla $ign', 'The Weeknd', 'Wiz Khalifa',...</td>\n",
       "      <td>0.805</td>\n",
       "      <td>242983</td>\n",
       "      <td>0.330</td>\n",
       "      <td>1</td>\n",
       "      <td>7t2bFihaDvhIrd2gn2CWJO</td>\n",
       "      <td>0.000000</td>\n",
       "      <td>1</td>\n",
       "      <td>0.1050</td>\n",
       "      <td>-8.712</td>\n",
       "      <td>0</td>\n",
       "      <td>Or Nah (feat. The Weeknd, Wiz Khalifa &amp; DJ Mus...</td>\n",
       "      <td>79</td>\n",
       "      <td>2014-06-10</td>\n",
       "      <td>0.1000</td>\n",
       "      <td>121.970</td>\n",
       "      <td>0.2110</td>\n",
       "      <td>2014</td>\n",
       "    </tr>\n",
       "    <tr>\n",
       "      <th>29587</th>\n",
       "      <td>0.0574</td>\n",
       "      <td>['Rod Stewart']</td>\n",
       "      <td>0.546</td>\n",
       "      <td>359733</td>\n",
       "      <td>0.859</td>\n",
       "      <td>0</td>\n",
       "      <td>7cYuolexJpsjD91G6i7XIm</td>\n",
       "      <td>0.000000</td>\n",
       "      <td>7</td>\n",
       "      <td>0.0855</td>\n",
       "      <td>-9.745</td>\n",
       "      <td>1</td>\n",
       "      <td>Every Picture Tells A Story</td>\n",
       "      <td>47</td>\n",
       "      <td>1971-05-18</td>\n",
       "      <td>0.0401</td>\n",
       "      <td>143.677</td>\n",
       "      <td>0.7420</td>\n",
       "      <td>1971</td>\n",
       "    </tr>\n",
       "    <tr>\n",
       "      <th>15551</th>\n",
       "      <td>0.4220</td>\n",
       "      <td>['Billy Bragg', 'Wilco']</td>\n",
       "      <td>0.622</td>\n",
       "      <td>298533</td>\n",
       "      <td>0.736</td>\n",
       "      <td>0</td>\n",
       "      <td>38paDDziQ57k1f4VfKTeGk</td>\n",
       "      <td>0.000012</td>\n",
       "      <td>9</td>\n",
       "      <td>0.0829</td>\n",
       "      <td>-9.229</td>\n",
       "      <td>1</td>\n",
       "      <td>California Stars</td>\n",
       "      <td>61</td>\n",
       "      <td>1998</td>\n",
       "      <td>0.0292</td>\n",
       "      <td>110.240</td>\n",
       "      <td>0.7230</td>\n",
       "      <td>1998</td>\n",
       "    </tr>\n",
       "    <tr>\n",
       "      <th>45074</th>\n",
       "      <td>0.6290</td>\n",
       "      <td>['Richard Strauss', 'Fritz Reiner', 'Chicago S...</td>\n",
       "      <td>0.199</td>\n",
       "      <td>93587</td>\n",
       "      <td>0.207</td>\n",
       "      <td>0</td>\n",
       "      <td>2BdJKDe828AtUAEuZa50ZT</td>\n",
       "      <td>0.793000</td>\n",
       "      <td>5</td>\n",
       "      <td>0.0634</td>\n",
       "      <td>-13.703</td>\n",
       "      <td>1</td>\n",
       "      <td>Also sprach Zarathustra, Op. 30: I. Sunrise</td>\n",
       "      <td>13</td>\n",
       "      <td>1954</td>\n",
       "      <td>0.0332</td>\n",
       "      <td>132.457</td>\n",
       "      <td>0.0839</td>\n",
       "      <td>1954</td>\n",
       "    </tr>\n",
       "    <tr>\n",
       "      <th>120806</th>\n",
       "      <td>0.5640</td>\n",
       "      <td>['Queen']</td>\n",
       "      <td>0.638</td>\n",
       "      <td>262133</td>\n",
       "      <td>0.576</td>\n",
       "      <td>0</td>\n",
       "      <td>0sA5xCFx2bF3jrz5Y5r0m1</td>\n",
       "      <td>0.000006</td>\n",
       "      <td>9</td>\n",
       "      <td>0.1560</td>\n",
       "      <td>-14.736</td>\n",
       "      <td>0</td>\n",
       "      <td>I'm Going Slightly Mad</td>\n",
       "      <td>30</td>\n",
       "      <td>1991-02-05</td>\n",
       "      <td>0.0532</td>\n",
       "      <td>115.960</td>\n",
       "      <td>0.3640</td>\n",
       "      <td>1991</td>\n",
       "    </tr>\n",
       "  </tbody>\n",
       "</table>\n",
       "</div>"
      ],
      "text/plain": [
       "        acousticness                                            artists  \\\n",
       "18674         0.2200  ['Ty Dolla $ign', 'The Weeknd', 'Wiz Khalifa',...   \n",
       "29587         0.0574                                    ['Rod Stewart']   \n",
       "15551         0.4220                           ['Billy Bragg', 'Wilco']   \n",
       "45074         0.6290  ['Richard Strauss', 'Fritz Reiner', 'Chicago S...   \n",
       "120806        0.5640                                          ['Queen']   \n",
       "\n",
       "        danceability  duration_ms  energy  explicit                      id  \\\n",
       "18674          0.805       242983   0.330         1  7t2bFihaDvhIrd2gn2CWJO   \n",
       "29587          0.546       359733   0.859         0  7cYuolexJpsjD91G6i7XIm   \n",
       "15551          0.622       298533   0.736         0  38paDDziQ57k1f4VfKTeGk   \n",
       "45074          0.199        93587   0.207         0  2BdJKDe828AtUAEuZa50ZT   \n",
       "120806         0.638       262133   0.576         0  0sA5xCFx2bF3jrz5Y5r0m1   \n",
       "\n",
       "        instrumentalness  key  liveness  loudness  mode  \\\n",
       "18674           0.000000    1    0.1050    -8.712     0   \n",
       "29587           0.000000    7    0.0855    -9.745     1   \n",
       "15551           0.000012    9    0.0829    -9.229     1   \n",
       "45074           0.793000    5    0.0634   -13.703     1   \n",
       "120806          0.000006    9    0.1560   -14.736     0   \n",
       "\n",
       "                                                     name  popularity  \\\n",
       "18674   Or Nah (feat. The Weeknd, Wiz Khalifa & DJ Mus...          79   \n",
       "29587                         Every Picture Tells A Story          47   \n",
       "15551                                    California Stars          61   \n",
       "45074         Also sprach Zarathustra, Op. 30: I. Sunrise          13   \n",
       "120806                             I'm Going Slightly Mad          30   \n",
       "\n",
       "       release_date  speechiness    tempo  valence  year  \n",
       "18674    2014-06-10       0.1000  121.970   0.2110  2014  \n",
       "29587    1971-05-18       0.0401  143.677   0.7420  1971  \n",
       "15551          1998       0.0292  110.240   0.7230  1998  \n",
       "45074          1954       0.0332  132.457   0.0839  1954  \n",
       "120806   1991-02-05       0.0532  115.960   0.3640  1991  "
      ]
     },
     "execution_count": 57,
     "metadata": {},
     "output_type": "execute_result"
    }
   ],
   "source": [
    "spotify.sample(5)"
   ]
  },
  {
   "cell_type": "markdown",
   "metadata": {},
   "source": [
    "Check nulls"
   ]
  },
  {
   "cell_type": "code",
   "execution_count": 58,
   "metadata": {},
   "outputs": [
    {
     "data": {
      "text/plain": [
       "acousticness        0\n",
       "artists             0\n",
       "danceability        0\n",
       "duration_ms         0\n",
       "energy              0\n",
       "explicit            0\n",
       "id                  0\n",
       "instrumentalness    0\n",
       "key                 0\n",
       "liveness            0\n",
       "loudness            0\n",
       "mode                0\n",
       "name                0\n",
       "popularity          0\n",
       "release_date        0\n",
       "speechiness         0\n",
       "tempo               0\n",
       "valence             0\n",
       "year                0\n",
       "dtype: int64"
      ]
     },
     "execution_count": 58,
     "metadata": {},
     "output_type": "execute_result"
    }
   ],
   "source": [
    "spotify.isna().sum()"
   ]
  },
  {
   "cell_type": "markdown",
   "metadata": {},
   "source": [
    "Drop string columns"
   ]
  },
  {
   "cell_type": "code",
   "execution_count": 59,
   "metadata": {},
   "outputs": [
    {
     "data": {
      "text/plain": [
       "acousticness        float64\n",
       "artists              object\n",
       "danceability        float64\n",
       "duration_ms           int64\n",
       "energy              float64\n",
       "explicit              int64\n",
       "id                   object\n",
       "instrumentalness    float64\n",
       "key                   int64\n",
       "liveness            float64\n",
       "loudness            float64\n",
       "mode                  int64\n",
       "name                 object\n",
       "popularity            int64\n",
       "release_date         object\n",
       "speechiness         float64\n",
       "tempo               float64\n",
       "valence             float64\n",
       "year                  int64\n",
       "dtype: object"
      ]
     },
     "execution_count": 59,
     "metadata": {},
     "output_type": "execute_result"
    }
   ],
   "source": [
    "spotify.dtypes"
   ]
  },
  {
   "cell_type": "code",
   "execution_count": 60,
   "metadata": {},
   "outputs": [],
   "source": [
    "spotify = spotify.select_dtypes(['float64', 'int64'])"
   ]
  },
  {
   "cell_type": "code",
   "execution_count": 61,
   "metadata": {},
   "outputs": [
    {
     "data": {
      "text/plain": [
       "acousticness        float64\n",
       "danceability        float64\n",
       "duration_ms           int64\n",
       "energy              float64\n",
       "explicit              int64\n",
       "instrumentalness    float64\n",
       "key                   int64\n",
       "liveness            float64\n",
       "loudness            float64\n",
       "mode                  int64\n",
       "popularity            int64\n",
       "speechiness         float64\n",
       "tempo               float64\n",
       "valence             float64\n",
       "year                  int64\n",
       "dtype: object"
      ]
     },
     "execution_count": 61,
     "metadata": {},
     "output_type": "execute_result"
    }
   ],
   "source": [
    "spotify.dtypes"
   ]
  },
  {
   "cell_type": "markdown",
   "metadata": {},
   "source": [
    "Baseline 'year' column"
   ]
  },
  {
   "cell_type": "code",
   "execution_count": 62,
   "metadata": {},
   "outputs": [],
   "source": [
    "spotify['year'] = pd.Timestamp.now().year - spotify['year']"
   ]
  },
  {
   "cell_type": "markdown",
   "metadata": {},
   "source": [
    "Get dummies"
   ]
  },
  {
   "cell_type": "code",
   "execution_count": 63,
   "metadata": {},
   "outputs": [],
   "source": [
    "spotify = pd.get_dummies(spotify, columns = ['explicit', 'key', 'mode'])"
   ]
  },
  {
   "cell_type": "code",
   "execution_count": 64,
   "metadata": {},
   "outputs": [
    {
     "data": {
      "text/plain": [
       "acousticness        float64\n",
       "danceability        float64\n",
       "duration_ms           int64\n",
       "energy              float64\n",
       "instrumentalness    float64\n",
       "liveness            float64\n",
       "loudness            float64\n",
       "popularity            int64\n",
       "speechiness         float64\n",
       "tempo               float64\n",
       "valence             float64\n",
       "year                  int64\n",
       "explicit_0            uint8\n",
       "explicit_1            uint8\n",
       "key_0                 uint8\n",
       "key_1                 uint8\n",
       "key_2                 uint8\n",
       "key_3                 uint8\n",
       "key_4                 uint8\n",
       "key_5                 uint8\n",
       "key_6                 uint8\n",
       "key_7                 uint8\n",
       "key_8                 uint8\n",
       "key_9                 uint8\n",
       "key_10                uint8\n",
       "key_11                uint8\n",
       "mode_0                uint8\n",
       "mode_1                uint8\n",
       "dtype: object"
      ]
     },
     "execution_count": 64,
     "metadata": {},
     "output_type": "execute_result"
    }
   ],
   "source": [
    "spotify.dtypes"
   ]
  },
  {
   "cell_type": "markdown",
   "metadata": {},
   "source": [
    "Scale Dummies"
   ]
  },
  {
   "cell_type": "code",
   "execution_count": 65,
   "metadata": {},
   "outputs": [],
   "source": [
    "spotify[spotify.select_dtypes('uint8').columns] = spotify[spotify.select_dtypes('uint8').columns].replace({0:-1})"
   ]
  },
  {
   "cell_type": "markdown",
   "metadata": {},
   "source": [
    "Scale Floats"
   ]
  },
  {
   "cell_type": "code",
   "execution_count": 66,
   "metadata": {},
   "outputs": [],
   "source": [
    "from sklearn.compose import make_column_transformer, make_column_selector\n",
    "from sklearn.preprocessing import MinMaxScaler"
   ]
  },
  {
   "cell_type": "code",
   "execution_count": 67,
   "metadata": {},
   "outputs": [],
   "source": [
    "X = spotify[spotify.columns[~spotify.columns.isin(['energy'])]]\n",
    "y = spotify['energy']"
   ]
  },
  {
   "cell_type": "code",
   "execution_count": 68,
   "metadata": {},
   "outputs": [
    {
     "data": {
      "text/html": [
       "<div>\n",
       "<style scoped>\n",
       "    .dataframe tbody tr th:only-of-type {\n",
       "        vertical-align: middle;\n",
       "    }\n",
       "\n",
       "    .dataframe tbody tr th {\n",
       "        vertical-align: top;\n",
       "    }\n",
       "\n",
       "    .dataframe thead th {\n",
       "        text-align: right;\n",
       "    }\n",
       "</style>\n",
       "<table border=\"1\" class=\"dataframe\">\n",
       "  <thead>\n",
       "    <tr style=\"text-align: right;\">\n",
       "      <th></th>\n",
       "      <th>acousticness</th>\n",
       "      <th>danceability</th>\n",
       "      <th>duration_ms</th>\n",
       "      <th>instrumentalness</th>\n",
       "      <th>liveness</th>\n",
       "      <th>loudness</th>\n",
       "      <th>popularity</th>\n",
       "      <th>speechiness</th>\n",
       "      <th>tempo</th>\n",
       "      <th>valence</th>\n",
       "      <th>...</th>\n",
       "      <th>key_4</th>\n",
       "      <th>key_5</th>\n",
       "      <th>key_6</th>\n",
       "      <th>key_7</th>\n",
       "      <th>key_8</th>\n",
       "      <th>key_9</th>\n",
       "      <th>key_10</th>\n",
       "      <th>key_11</th>\n",
       "      <th>mode_0</th>\n",
       "      <th>mode_1</th>\n",
       "    </tr>\n",
       "  </thead>\n",
       "  <tbody>\n",
       "    <tr>\n",
       "      <th>0</th>\n",
       "      <td>0.991000</td>\n",
       "      <td>0.598</td>\n",
       "      <td>168333</td>\n",
       "      <td>0.000522</td>\n",
       "      <td>0.3790</td>\n",
       "      <td>-12.628</td>\n",
       "      <td>12</td>\n",
       "      <td>0.0936</td>\n",
       "      <td>149.976</td>\n",
       "      <td>0.6340</td>\n",
       "      <td>...</td>\n",
       "      <td>-1</td>\n",
       "      <td>1</td>\n",
       "      <td>-1</td>\n",
       "      <td>-1</td>\n",
       "      <td>-1</td>\n",
       "      <td>-1</td>\n",
       "      <td>-1</td>\n",
       "      <td>-1</td>\n",
       "      <td>1</td>\n",
       "      <td>-1</td>\n",
       "    </tr>\n",
       "    <tr>\n",
       "      <th>1</th>\n",
       "      <td>0.643000</td>\n",
       "      <td>0.852</td>\n",
       "      <td>150200</td>\n",
       "      <td>0.026400</td>\n",
       "      <td>0.0809</td>\n",
       "      <td>-7.261</td>\n",
       "      <td>7</td>\n",
       "      <td>0.0534</td>\n",
       "      <td>86.889</td>\n",
       "      <td>0.9500</td>\n",
       "      <td>...</td>\n",
       "      <td>-1</td>\n",
       "      <td>1</td>\n",
       "      <td>-1</td>\n",
       "      <td>-1</td>\n",
       "      <td>-1</td>\n",
       "      <td>-1</td>\n",
       "      <td>-1</td>\n",
       "      <td>-1</td>\n",
       "      <td>1</td>\n",
       "      <td>-1</td>\n",
       "    </tr>\n",
       "    <tr>\n",
       "      <th>2</th>\n",
       "      <td>0.993000</td>\n",
       "      <td>0.647</td>\n",
       "      <td>163827</td>\n",
       "      <td>0.000018</td>\n",
       "      <td>0.5190</td>\n",
       "      <td>-12.098</td>\n",
       "      <td>4</td>\n",
       "      <td>0.1740</td>\n",
       "      <td>97.600</td>\n",
       "      <td>0.6890</td>\n",
       "      <td>...</td>\n",
       "      <td>-1</td>\n",
       "      <td>-1</td>\n",
       "      <td>-1</td>\n",
       "      <td>-1</td>\n",
       "      <td>-1</td>\n",
       "      <td>-1</td>\n",
       "      <td>-1</td>\n",
       "      <td>-1</td>\n",
       "      <td>-1</td>\n",
       "      <td>1</td>\n",
       "    </tr>\n",
       "    <tr>\n",
       "      <th>3</th>\n",
       "      <td>0.000173</td>\n",
       "      <td>0.730</td>\n",
       "      <td>422087</td>\n",
       "      <td>0.801000</td>\n",
       "      <td>0.1280</td>\n",
       "      <td>-7.311</td>\n",
       "      <td>17</td>\n",
       "      <td>0.0425</td>\n",
       "      <td>127.997</td>\n",
       "      <td>0.0422</td>\n",
       "      <td>...</td>\n",
       "      <td>-1</td>\n",
       "      <td>-1</td>\n",
       "      <td>-1</td>\n",
       "      <td>-1</td>\n",
       "      <td>-1</td>\n",
       "      <td>-1</td>\n",
       "      <td>-1</td>\n",
       "      <td>-1</td>\n",
       "      <td>-1</td>\n",
       "      <td>1</td>\n",
       "    </tr>\n",
       "    <tr>\n",
       "      <th>4</th>\n",
       "      <td>0.295000</td>\n",
       "      <td>0.704</td>\n",
       "      <td>165224</td>\n",
       "      <td>0.000246</td>\n",
       "      <td>0.4020</td>\n",
       "      <td>-6.036</td>\n",
       "      <td>2</td>\n",
       "      <td>0.0768</td>\n",
       "      <td>122.076</td>\n",
       "      <td>0.2990</td>\n",
       "      <td>...</td>\n",
       "      <td>-1</td>\n",
       "      <td>-1</td>\n",
       "      <td>-1</td>\n",
       "      <td>-1</td>\n",
       "      <td>-1</td>\n",
       "      <td>-1</td>\n",
       "      <td>1</td>\n",
       "      <td>-1</td>\n",
       "      <td>1</td>\n",
       "      <td>-1</td>\n",
       "    </tr>\n",
       "    <tr>\n",
       "      <th>...</th>\n",
       "      <td>...</td>\n",
       "      <td>...</td>\n",
       "      <td>...</td>\n",
       "      <td>...</td>\n",
       "      <td>...</td>\n",
       "      <td>...</td>\n",
       "      <td>...</td>\n",
       "      <td>...</td>\n",
       "      <td>...</td>\n",
       "      <td>...</td>\n",
       "      <td>...</td>\n",
       "      <td>...</td>\n",
       "      <td>...</td>\n",
       "      <td>...</td>\n",
       "      <td>...</td>\n",
       "      <td>...</td>\n",
       "      <td>...</td>\n",
       "      <td>...</td>\n",
       "      <td>...</td>\n",
       "      <td>...</td>\n",
       "      <td>...</td>\n",
       "    </tr>\n",
       "    <tr>\n",
       "      <th>174384</th>\n",
       "      <td>0.009170</td>\n",
       "      <td>0.792</td>\n",
       "      <td>147615</td>\n",
       "      <td>0.000060</td>\n",
       "      <td>0.1780</td>\n",
       "      <td>-5.089</td>\n",
       "      <td>0</td>\n",
       "      <td>0.0356</td>\n",
       "      <td>125.972</td>\n",
       "      <td>0.1860</td>\n",
       "      <td>...</td>\n",
       "      <td>-1</td>\n",
       "      <td>-1</td>\n",
       "      <td>1</td>\n",
       "      <td>-1</td>\n",
       "      <td>-1</td>\n",
       "      <td>-1</td>\n",
       "      <td>-1</td>\n",
       "      <td>-1</td>\n",
       "      <td>1</td>\n",
       "      <td>-1</td>\n",
       "    </tr>\n",
       "    <tr>\n",
       "      <th>174385</th>\n",
       "      <td>0.795000</td>\n",
       "      <td>0.429</td>\n",
       "      <td>144720</td>\n",
       "      <td>0.000000</td>\n",
       "      <td>0.1960</td>\n",
       "      <td>-11.665</td>\n",
       "      <td>0</td>\n",
       "      <td>0.0360</td>\n",
       "      <td>94.710</td>\n",
       "      <td>0.2280</td>\n",
       "      <td>...</td>\n",
       "      <td>1</td>\n",
       "      <td>-1</td>\n",
       "      <td>-1</td>\n",
       "      <td>-1</td>\n",
       "      <td>-1</td>\n",
       "      <td>-1</td>\n",
       "      <td>-1</td>\n",
       "      <td>-1</td>\n",
       "      <td>-1</td>\n",
       "      <td>1</td>\n",
       "    </tr>\n",
       "    <tr>\n",
       "      <th>174386</th>\n",
       "      <td>0.806000</td>\n",
       "      <td>0.671</td>\n",
       "      <td>218147</td>\n",
       "      <td>0.920000</td>\n",
       "      <td>0.1130</td>\n",
       "      <td>-12.393</td>\n",
       "      <td>0</td>\n",
       "      <td>0.0282</td>\n",
       "      <td>108.058</td>\n",
       "      <td>0.7140</td>\n",
       "      <td>...</td>\n",
       "      <td>1</td>\n",
       "      <td>-1</td>\n",
       "      <td>-1</td>\n",
       "      <td>-1</td>\n",
       "      <td>-1</td>\n",
       "      <td>-1</td>\n",
       "      <td>-1</td>\n",
       "      <td>-1</td>\n",
       "      <td>1</td>\n",
       "      <td>-1</td>\n",
       "    </tr>\n",
       "    <tr>\n",
       "      <th>174387</th>\n",
       "      <td>0.920000</td>\n",
       "      <td>0.462</td>\n",
       "      <td>244000</td>\n",
       "      <td>0.000000</td>\n",
       "      <td>0.1130</td>\n",
       "      <td>-12.077</td>\n",
       "      <td>69</td>\n",
       "      <td>0.0377</td>\n",
       "      <td>171.319</td>\n",
       "      <td>0.3200</td>\n",
       "      <td>...</td>\n",
       "      <td>-1</td>\n",
       "      <td>-1</td>\n",
       "      <td>-1</td>\n",
       "      <td>-1</td>\n",
       "      <td>-1</td>\n",
       "      <td>-1</td>\n",
       "      <td>-1</td>\n",
       "      <td>-1</td>\n",
       "      <td>-1</td>\n",
       "      <td>1</td>\n",
       "    </tr>\n",
       "    <tr>\n",
       "      <th>174388</th>\n",
       "      <td>0.239000</td>\n",
       "      <td>0.677</td>\n",
       "      <td>197710</td>\n",
       "      <td>0.891000</td>\n",
       "      <td>0.2150</td>\n",
       "      <td>-12.237</td>\n",
       "      <td>0</td>\n",
       "      <td>0.0258</td>\n",
       "      <td>112.208</td>\n",
       "      <td>0.7470</td>\n",
       "      <td>...</td>\n",
       "      <td>-1</td>\n",
       "      <td>-1</td>\n",
       "      <td>-1</td>\n",
       "      <td>1</td>\n",
       "      <td>-1</td>\n",
       "      <td>-1</td>\n",
       "      <td>-1</td>\n",
       "      <td>-1</td>\n",
       "      <td>-1</td>\n",
       "      <td>1</td>\n",
       "    </tr>\n",
       "  </tbody>\n",
       "</table>\n",
       "<p>174389 rows × 27 columns</p>\n",
       "</div>"
      ],
      "text/plain": [
       "        acousticness  danceability  duration_ms  instrumentalness  liveness  \\\n",
       "0           0.991000         0.598       168333          0.000522    0.3790   \n",
       "1           0.643000         0.852       150200          0.026400    0.0809   \n",
       "2           0.993000         0.647       163827          0.000018    0.5190   \n",
       "3           0.000173         0.730       422087          0.801000    0.1280   \n",
       "4           0.295000         0.704       165224          0.000246    0.4020   \n",
       "...              ...           ...          ...               ...       ...   \n",
       "174384      0.009170         0.792       147615          0.000060    0.1780   \n",
       "174385      0.795000         0.429       144720          0.000000    0.1960   \n",
       "174386      0.806000         0.671       218147          0.920000    0.1130   \n",
       "174387      0.920000         0.462       244000          0.000000    0.1130   \n",
       "174388      0.239000         0.677       197710          0.891000    0.2150   \n",
       "\n",
       "        loudness  popularity  speechiness    tempo  valence  ...  key_4  \\\n",
       "0        -12.628          12       0.0936  149.976   0.6340  ...     -1   \n",
       "1         -7.261           7       0.0534   86.889   0.9500  ...     -1   \n",
       "2        -12.098           4       0.1740   97.600   0.6890  ...     -1   \n",
       "3         -7.311          17       0.0425  127.997   0.0422  ...     -1   \n",
       "4         -6.036           2       0.0768  122.076   0.2990  ...     -1   \n",
       "...          ...         ...          ...      ...      ...  ...    ...   \n",
       "174384    -5.089           0       0.0356  125.972   0.1860  ...     -1   \n",
       "174385   -11.665           0       0.0360   94.710   0.2280  ...      1   \n",
       "174386   -12.393           0       0.0282  108.058   0.7140  ...      1   \n",
       "174387   -12.077          69       0.0377  171.319   0.3200  ...     -1   \n",
       "174388   -12.237           0       0.0258  112.208   0.7470  ...     -1   \n",
       "\n",
       "        key_5  key_6  key_7  key_8  key_9  key_10  key_11  mode_0  mode_1  \n",
       "0           1     -1     -1     -1     -1      -1      -1       1      -1  \n",
       "1           1     -1     -1     -1     -1      -1      -1       1      -1  \n",
       "2          -1     -1     -1     -1     -1      -1      -1      -1       1  \n",
       "3          -1     -1     -1     -1     -1      -1      -1      -1       1  \n",
       "4          -1     -1     -1     -1     -1       1      -1       1      -1  \n",
       "...       ...    ...    ...    ...    ...     ...     ...     ...     ...  \n",
       "174384     -1      1     -1     -1     -1      -1      -1       1      -1  \n",
       "174385     -1     -1     -1     -1     -1      -1      -1      -1       1  \n",
       "174386     -1     -1     -1     -1     -1      -1      -1       1      -1  \n",
       "174387     -1     -1     -1     -1     -1      -1      -1      -1       1  \n",
       "174388     -1     -1      1     -1     -1      -1      -1      -1       1  \n",
       "\n",
       "[174389 rows x 27 columns]"
      ]
     },
     "execution_count": 68,
     "metadata": {},
     "output_type": "execute_result"
    }
   ],
   "source": [
    "X"
   ]
  },
  {
   "cell_type": "code",
   "execution_count": 69,
   "metadata": {},
   "outputs": [],
   "source": [
    "ct = make_column_transformer((StandardScaler(), X.columns[:list(X.columns).index('year')+1]),remainder='passthrough')"
   ]
  },
  {
   "cell_type": "code",
   "execution_count": 71,
   "metadata": {},
   "outputs": [
    {
     "data": {
      "text/html": [
       "<div>\n",
       "<style scoped>\n",
       "    .dataframe tbody tr th:only-of-type {\n",
       "        vertical-align: middle;\n",
       "    }\n",
       "\n",
       "    .dataframe tbody tr th {\n",
       "        vertical-align: top;\n",
       "    }\n",
       "\n",
       "    .dataframe thead th {\n",
       "        text-align: right;\n",
       "    }\n",
       "</style>\n",
       "<table border=\"1\" class=\"dataframe\">\n",
       "  <thead>\n",
       "    <tr style=\"text-align: right;\">\n",
       "      <th></th>\n",
       "      <th>acousticness</th>\n",
       "      <th>danceability</th>\n",
       "      <th>duration_ms</th>\n",
       "      <th>instrumentalness</th>\n",
       "      <th>liveness</th>\n",
       "      <th>loudness</th>\n",
       "      <th>popularity</th>\n",
       "      <th>speechiness</th>\n",
       "      <th>tempo</th>\n",
       "      <th>valence</th>\n",
       "      <th>...</th>\n",
       "      <th>key_4</th>\n",
       "      <th>key_5</th>\n",
       "      <th>key_6</th>\n",
       "      <th>key_7</th>\n",
       "      <th>key_8</th>\n",
       "      <th>key_9</th>\n",
       "      <th>key_10</th>\n",
       "      <th>key_11</th>\n",
       "      <th>mode_0</th>\n",
       "      <th>mode_1</th>\n",
       "    </tr>\n",
       "  </thead>\n",
       "  <tbody>\n",
       "    <tr>\n",
       "      <th>0</th>\n",
       "      <td>1.294358</td>\n",
       "      <td>0.347919</td>\n",
       "      <td>-0.434495</td>\n",
       "      <td>-0.588004</td>\n",
       "      <td>0.930106</td>\n",
       "      <td>-0.154111</td>\n",
       "      <td>-0.626050</td>\n",
       "      <td>-0.066549</td>\n",
       "      <td>1.089753</td>\n",
       "      <td>0.413903</td>\n",
       "      <td>...</td>\n",
       "      <td>-1.0</td>\n",
       "      <td>1.0</td>\n",
       "      <td>-1.0</td>\n",
       "      <td>-1.0</td>\n",
       "      <td>-1.0</td>\n",
       "      <td>-1.0</td>\n",
       "      <td>-1.0</td>\n",
       "      <td>-1.0</td>\n",
       "      <td>1.0</td>\n",
       "      <td>-1.0</td>\n",
       "    </tr>\n",
       "    <tr>\n",
       "      <th>1</th>\n",
       "      <td>0.378411</td>\n",
       "      <td>1.790898</td>\n",
       "      <td>-0.556689</td>\n",
       "      <td>-0.510657</td>\n",
       "      <td>-0.721489</td>\n",
       "      <td>0.788862</td>\n",
       "      <td>-0.854645</td>\n",
       "      <td>-0.287113</td>\n",
       "      <td>-0.995485</td>\n",
       "      <td>1.608718</td>\n",
       "      <td>...</td>\n",
       "      <td>-1.0</td>\n",
       "      <td>1.0</td>\n",
       "      <td>-1.0</td>\n",
       "      <td>-1.0</td>\n",
       "      <td>-1.0</td>\n",
       "      <td>-1.0</td>\n",
       "      <td>-1.0</td>\n",
       "      <td>-1.0</td>\n",
       "      <td>1.0</td>\n",
       "      <td>-1.0</td>\n",
       "    </tr>\n",
       "    <tr>\n",
       "      <th>2</th>\n",
       "      <td>1.299622</td>\n",
       "      <td>0.626289</td>\n",
       "      <td>-0.464860</td>\n",
       "      <td>-0.589511</td>\n",
       "      <td>1.705763</td>\n",
       "      <td>-0.060991</td>\n",
       "      <td>-0.991803</td>\n",
       "      <td>0.374580</td>\n",
       "      <td>-0.641450</td>\n",
       "      <td>0.621861</td>\n",
       "      <td>...</td>\n",
       "      <td>-1.0</td>\n",
       "      <td>-1.0</td>\n",
       "      <td>-1.0</td>\n",
       "      <td>-1.0</td>\n",
       "      <td>-1.0</td>\n",
       "      <td>-1.0</td>\n",
       "      <td>-1.0</td>\n",
       "      <td>-1.0</td>\n",
       "      <td>-1.0</td>\n",
       "      <td>1.0</td>\n",
       "    </tr>\n",
       "    <tr>\n",
       "      <th>3</th>\n",
       "      <td>-1.313529</td>\n",
       "      <td>1.097814</td>\n",
       "      <td>1.275491</td>\n",
       "      <td>1.804534</td>\n",
       "      <td>-0.460536</td>\n",
       "      <td>0.780077</td>\n",
       "      <td>-0.397454</td>\n",
       "      <td>-0.346918</td>\n",
       "      <td>0.363273</td>\n",
       "      <td>-1.823729</td>\n",
       "      <td>...</td>\n",
       "      <td>-1.0</td>\n",
       "      <td>-1.0</td>\n",
       "      <td>-1.0</td>\n",
       "      <td>-1.0</td>\n",
       "      <td>-1.0</td>\n",
       "      <td>-1.0</td>\n",
       "      <td>-1.0</td>\n",
       "      <td>-1.0</td>\n",
       "      <td>-1.0</td>\n",
       "      <td>1.0</td>\n",
       "    </tr>\n",
       "    <tr>\n",
       "      <th>4</th>\n",
       "      <td>-0.537536</td>\n",
       "      <td>0.950107</td>\n",
       "      <td>-0.455446</td>\n",
       "      <td>-0.588829</td>\n",
       "      <td>1.057535</td>\n",
       "      <td>1.004092</td>\n",
       "      <td>-1.083241</td>\n",
       "      <td>-0.158725</td>\n",
       "      <td>0.167564</td>\n",
       "      <td>-0.852753</td>\n",
       "      <td>...</td>\n",
       "      <td>-1.0</td>\n",
       "      <td>-1.0</td>\n",
       "      <td>-1.0</td>\n",
       "      <td>-1.0</td>\n",
       "      <td>-1.0</td>\n",
       "      <td>-1.0</td>\n",
       "      <td>1.0</td>\n",
       "      <td>-1.0</td>\n",
       "      <td>1.0</td>\n",
       "      <td>-1.0</td>\n",
       "    </tr>\n",
       "    <tr>\n",
       "      <th>...</th>\n",
       "      <td>...</td>\n",
       "      <td>...</td>\n",
       "      <td>...</td>\n",
       "      <td>...</td>\n",
       "      <td>...</td>\n",
       "      <td>...</td>\n",
       "      <td>...</td>\n",
       "      <td>...</td>\n",
       "      <td>...</td>\n",
       "      <td>...</td>\n",
       "      <td>...</td>\n",
       "      <td>...</td>\n",
       "      <td>...</td>\n",
       "      <td>...</td>\n",
       "      <td>...</td>\n",
       "      <td>...</td>\n",
       "      <td>...</td>\n",
       "      <td>...</td>\n",
       "      <td>...</td>\n",
       "      <td>...</td>\n",
       "      <td>...</td>\n",
       "    </tr>\n",
       "    <tr>\n",
       "      <th>174384</th>\n",
       "      <td>-1.289849</td>\n",
       "      <td>1.450037</td>\n",
       "      <td>-0.574108</td>\n",
       "      <td>-0.589385</td>\n",
       "      <td>-0.183516</td>\n",
       "      <td>1.170478</td>\n",
       "      <td>-1.174679</td>\n",
       "      <td>-0.384776</td>\n",
       "      <td>0.296340</td>\n",
       "      <td>-1.280013</td>\n",
       "      <td>...</td>\n",
       "      <td>-1.0</td>\n",
       "      <td>-1.0</td>\n",
       "      <td>1.0</td>\n",
       "      <td>-1.0</td>\n",
       "      <td>-1.0</td>\n",
       "      <td>-1.0</td>\n",
       "      <td>-1.0</td>\n",
       "      <td>-1.0</td>\n",
       "      <td>1.0</td>\n",
       "      <td>-1.0</td>\n",
       "    </tr>\n",
       "    <tr>\n",
       "      <th>174385</th>\n",
       "      <td>0.778480</td>\n",
       "      <td>-0.612173</td>\n",
       "      <td>-0.593617</td>\n",
       "      <td>-0.589564</td>\n",
       "      <td>-0.083788</td>\n",
       "      <td>0.015086</td>\n",
       "      <td>-1.174679</td>\n",
       "      <td>-0.382582</td>\n",
       "      <td>-0.736975</td>\n",
       "      <td>-1.121208</td>\n",
       "      <td>...</td>\n",
       "      <td>1.0</td>\n",
       "      <td>-1.0</td>\n",
       "      <td>-1.0</td>\n",
       "      <td>-1.0</td>\n",
       "      <td>-1.0</td>\n",
       "      <td>-1.0</td>\n",
       "      <td>-1.0</td>\n",
       "      <td>-1.0</td>\n",
       "      <td>-1.0</td>\n",
       "      <td>1.0</td>\n",
       "    </tr>\n",
       "    <tr>\n",
       "      <th>174386</th>\n",
       "      <td>0.807432</td>\n",
       "      <td>0.762634</td>\n",
       "      <td>-0.098811</td>\n",
       "      <td>2.160212</td>\n",
       "      <td>-0.543642</td>\n",
       "      <td>-0.112822</td>\n",
       "      <td>-1.174679</td>\n",
       "      <td>-0.425378</td>\n",
       "      <td>-0.295778</td>\n",
       "      <td>0.716387</td>\n",
       "      <td>...</td>\n",
       "      <td>1.0</td>\n",
       "      <td>-1.0</td>\n",
       "      <td>-1.0</td>\n",
       "      <td>-1.0</td>\n",
       "      <td>-1.0</td>\n",
       "      <td>-1.0</td>\n",
       "      <td>-1.0</td>\n",
       "      <td>-1.0</td>\n",
       "      <td>1.0</td>\n",
       "      <td>-1.0</td>\n",
       "    </tr>\n",
       "    <tr>\n",
       "      <th>174387</th>\n",
       "      <td>1.107484</td>\n",
       "      <td>-0.424699</td>\n",
       "      <td>0.075406</td>\n",
       "      <td>-0.589564</td>\n",
       "      <td>-0.543642</td>\n",
       "      <td>-0.057301</td>\n",
       "      <td>1.979941</td>\n",
       "      <td>-0.373254</td>\n",
       "      <td>1.795212</td>\n",
       "      <td>-0.773351</td>\n",
       "      <td>...</td>\n",
       "      <td>-1.0</td>\n",
       "      <td>-1.0</td>\n",
       "      <td>-1.0</td>\n",
       "      <td>-1.0</td>\n",
       "      <td>-1.0</td>\n",
       "      <td>-1.0</td>\n",
       "      <td>-1.0</td>\n",
       "      <td>-1.0</td>\n",
       "      <td>-1.0</td>\n",
       "      <td>1.0</td>\n",
       "    </tr>\n",
       "    <tr>\n",
       "      <th>174388</th>\n",
       "      <td>-0.684929</td>\n",
       "      <td>0.796720</td>\n",
       "      <td>-0.236531</td>\n",
       "      <td>2.073534</td>\n",
       "      <td>0.021479</td>\n",
       "      <td>-0.085413</td>\n",
       "      <td>-1.174679</td>\n",
       "      <td>-0.438546</td>\n",
       "      <td>-0.158607</td>\n",
       "      <td>0.841162</td>\n",
       "      <td>...</td>\n",
       "      <td>-1.0</td>\n",
       "      <td>-1.0</td>\n",
       "      <td>-1.0</td>\n",
       "      <td>1.0</td>\n",
       "      <td>-1.0</td>\n",
       "      <td>-1.0</td>\n",
       "      <td>-1.0</td>\n",
       "      <td>-1.0</td>\n",
       "      <td>-1.0</td>\n",
       "      <td>1.0</td>\n",
       "    </tr>\n",
       "  </tbody>\n",
       "</table>\n",
       "<p>174389 rows × 27 columns</p>\n",
       "</div>"
      ],
      "text/plain": [
       "        acousticness  danceability  duration_ms  instrumentalness  liveness  \\\n",
       "0           1.294358      0.347919    -0.434495         -0.588004  0.930106   \n",
       "1           0.378411      1.790898    -0.556689         -0.510657 -0.721489   \n",
       "2           1.299622      0.626289    -0.464860         -0.589511  1.705763   \n",
       "3          -1.313529      1.097814     1.275491          1.804534 -0.460536   \n",
       "4          -0.537536      0.950107    -0.455446         -0.588829  1.057535   \n",
       "...              ...           ...          ...               ...       ...   \n",
       "174384     -1.289849      1.450037    -0.574108         -0.589385 -0.183516   \n",
       "174385      0.778480     -0.612173    -0.593617         -0.589564 -0.083788   \n",
       "174386      0.807432      0.762634    -0.098811          2.160212 -0.543642   \n",
       "174387      1.107484     -0.424699     0.075406         -0.589564 -0.543642   \n",
       "174388     -0.684929      0.796720    -0.236531          2.073534  0.021479   \n",
       "\n",
       "        loudness  popularity  speechiness     tempo   valence  ...  key_4  \\\n",
       "0      -0.154111   -0.626050    -0.066549  1.089753  0.413903  ...   -1.0   \n",
       "1       0.788862   -0.854645    -0.287113 -0.995485  1.608718  ...   -1.0   \n",
       "2      -0.060991   -0.991803     0.374580 -0.641450  0.621861  ...   -1.0   \n",
       "3       0.780077   -0.397454    -0.346918  0.363273 -1.823729  ...   -1.0   \n",
       "4       1.004092   -1.083241    -0.158725  0.167564 -0.852753  ...   -1.0   \n",
       "...          ...         ...          ...       ...       ...  ...    ...   \n",
       "174384  1.170478   -1.174679    -0.384776  0.296340 -1.280013  ...   -1.0   \n",
       "174385  0.015086   -1.174679    -0.382582 -0.736975 -1.121208  ...    1.0   \n",
       "174386 -0.112822   -1.174679    -0.425378 -0.295778  0.716387  ...    1.0   \n",
       "174387 -0.057301    1.979941    -0.373254  1.795212 -0.773351  ...   -1.0   \n",
       "174388 -0.085413   -1.174679    -0.438546 -0.158607  0.841162  ...   -1.0   \n",
       "\n",
       "        key_5  key_6  key_7  key_8  key_9  key_10  key_11  mode_0  mode_1  \n",
       "0         1.0   -1.0   -1.0   -1.0   -1.0    -1.0    -1.0     1.0    -1.0  \n",
       "1         1.0   -1.0   -1.0   -1.0   -1.0    -1.0    -1.0     1.0    -1.0  \n",
       "2        -1.0   -1.0   -1.0   -1.0   -1.0    -1.0    -1.0    -1.0     1.0  \n",
       "3        -1.0   -1.0   -1.0   -1.0   -1.0    -1.0    -1.0    -1.0     1.0  \n",
       "4        -1.0   -1.0   -1.0   -1.0   -1.0     1.0    -1.0     1.0    -1.0  \n",
       "...       ...    ...    ...    ...    ...     ...     ...     ...     ...  \n",
       "174384   -1.0    1.0   -1.0   -1.0   -1.0    -1.0    -1.0     1.0    -1.0  \n",
       "174385   -1.0   -1.0   -1.0   -1.0   -1.0    -1.0    -1.0    -1.0     1.0  \n",
       "174386   -1.0   -1.0   -1.0   -1.0   -1.0    -1.0    -1.0     1.0    -1.0  \n",
       "174387   -1.0   -1.0   -1.0   -1.0   -1.0    -1.0    -1.0    -1.0     1.0  \n",
       "174388   -1.0   -1.0    1.0   -1.0   -1.0    -1.0    -1.0    -1.0     1.0  \n",
       "\n",
       "[174389 rows x 27 columns]"
      ]
     },
     "execution_count": 71,
     "metadata": {},
     "output_type": "execute_result"
    }
   ],
   "source": [
    "X = pd.DataFrame(ct.fit_transform(X), columns=X.columns)\n",
    "X"
   ]
  },
  {
   "cell_type": "markdown",
   "metadata": {},
   "source": [
    "c)\tData splitting \n"
   ]
  },
  {
   "cell_type": "code",
   "execution_count": 72,
   "metadata": {},
   "outputs": [],
   "source": [
    "from sklearn.model_selection import train_test_split"
   ]
  },
  {
   "cell_type": "code",
   "execution_count": 73,
   "metadata": {},
   "outputs": [],
   "source": [
    "X_train, X_test, y_train, y_test = train_test_split(X, y, test_size=.2, random_state=42)"
   ]
  },
  {
   "cell_type": "code",
   "execution_count": 74,
   "metadata": {},
   "outputs": [
    {
     "data": {
      "text/plain": [
       "((139511, 27), (139511,))"
      ]
     },
     "execution_count": 74,
     "metadata": {},
     "output_type": "execute_result"
    }
   ],
   "source": [
    "X_train.shape, y_train.shape"
   ]
  },
  {
   "cell_type": "code",
   "execution_count": 75,
   "metadata": {},
   "outputs": [
    {
     "data": {
      "text/plain": [
       "((34878, 27), (34878,))"
      ]
     },
     "execution_count": 75,
     "metadata": {},
     "output_type": "execute_result"
    }
   ],
   "source": [
    "X_test.shape, y_test.shape"
   ]
  },
  {
   "cell_type": "markdown",
   "metadata": {},
   "source": [
    "d)\tModel construction \n"
   ]
  },
  {
   "cell_type": "code",
   "execution_count": 76,
   "metadata": {},
   "outputs": [],
   "source": [
    "knn = KNeighborsRegressor(n_jobs=-1)"
   ]
  },
  {
   "cell_type": "code",
   "execution_count": 77,
   "metadata": {},
   "outputs": [
    {
     "data": {
      "text/plain": [
       "KNeighborsRegressor(n_jobs=-1)"
      ]
     },
     "execution_count": 77,
     "metadata": {},
     "output_type": "execute_result"
    }
   ],
   "source": [
    "knn.fit(X_train, y_train)"
   ]
  },
  {
   "cell_type": "markdown",
   "metadata": {},
   "source": [
    "Base metrics"
   ]
  },
  {
   "cell_type": "code",
   "execution_count": 78,
   "metadata": {},
   "outputs": [],
   "source": [
    "from sklearn.metrics import r2_score"
   ]
  },
  {
   "cell_type": "code",
   "execution_count": 79,
   "metadata": {},
   "outputs": [],
   "source": [
    "y_pred_train = knn.predict(X_train)"
   ]
  },
  {
   "cell_type": "code",
   "execution_count": 80,
   "metadata": {},
   "outputs": [],
   "source": [
    "y_pred_test = knn.predict(X_test)"
   ]
  },
  {
   "cell_type": "markdown",
   "metadata": {},
   "source": [
    "Train"
   ]
  },
  {
   "cell_type": "code",
   "execution_count": 81,
   "metadata": {},
   "outputs": [
    {
     "data": {
      "text/plain": [
       "0.8692657365579515"
      ]
     },
     "execution_count": 81,
     "metadata": {},
     "output_type": "execute_result"
    }
   ],
   "source": [
    "r2_score(y_train, y_pred_train)"
   ]
  },
  {
   "cell_type": "code",
   "execution_count": 82,
   "metadata": {},
   "outputs": [
    {
     "data": {
      "text/plain": [
       "0.09855464044834011"
      ]
     },
     "execution_count": 82,
     "metadata": {},
     "output_type": "execute_result"
    }
   ],
   "source": [
    "mean_squared_error(y_train, y_pred_train, squared=False)"
   ]
  },
  {
   "cell_type": "markdown",
   "metadata": {},
   "source": [
    "Test"
   ]
  },
  {
   "cell_type": "code",
   "execution_count": 83,
   "metadata": {},
   "outputs": [
    {
     "data": {
      "text/plain": [
       "0.8029904002733431"
      ]
     },
     "execution_count": 83,
     "metadata": {},
     "output_type": "execute_result"
    }
   ],
   "source": [
    "r2_score(y_test, y_pred_test)"
   ]
  },
  {
   "cell_type": "code",
   "execution_count": 84,
   "metadata": {},
   "outputs": [
    {
     "data": {
      "text/plain": [
       "0.12123105702934114"
      ]
     },
     "execution_count": 84,
     "metadata": {},
     "output_type": "execute_result"
    }
   ],
   "source": [
    "mean_squared_error(y_test, y_pred_test, squared=False)"
   ]
  },
  {
   "cell_type": "markdown",
   "metadata": {},
   "source": [
    "e)\tHyperparameter turning (choose whatever approach your like)\n"
   ]
  },
  {
   "cell_type": "code",
   "execution_count": null,
   "metadata": {},
   "outputs": [],
   "source": [
    "# trying tune-sklearn which is supposed to be faster than built-in tuners. \n",
    "from tune_sklearn import TuneSearchCV"
   ]
  },
  {
   "cell_type": "code",
   "execution_count": 88,
   "metadata": {},
   "outputs": [],
   "source": [
    "# This dataset takes a long time to train, so I've limited my choices and number of folds\n",
    "params = {\n",
    "    'n_neighbors': list(range(1, 52, 10))\n",
    "}"
   ]
  },
  {
   "cell_type": "code",
   "execution_count": 96,
   "metadata": {},
   "outputs": [],
   "source": [
    "# Below can be replaced with \"GridSearchCV\" for classic tuning\n",
    "grid = TuneSearchCV(knn, params, n_jobs=10, verbose=2, cv=4, use_gpu = True)"
   ]
  },
  {
   "cell_type": "code",
   "execution_count": 97,
   "metadata": {},
   "outputs": [
    {
     "name": "stderr",
     "output_type": "stream",
     "text": [
      "Checkpointing the experiment state took 1.796 s, which may be a performance bottleneck. Please ensure the `TUNE_GLOBAL_CHECKPOINT_S` environment variable is something significantly higher than this duration to ensure compute time is mostly spent on the main training loop.\n"
     ]
    },
    {
     "data": {
      "text/html": [
       "== Status ==<br>Memory usage on this node: 10.8/31.9 GiB<br>Using FIFO scheduling algorithm.<br>Resources requested: 2/16 CPUs, 0.1/1 GPUs, 0.0/13.57 GiB heap, 0.0/4.64 GiB objects<br>Result logdir: C:\\Users\\KittheKat\\ray_results\\_Trainable_2021-02-15_17-28-14<br>Number of trials: 1/5 (1 RUNNING)<br><br>"
      ],
      "text/plain": [
       "<IPython.core.display.HTML object>"
      ]
     },
     "metadata": {},
     "output_type": "display_data"
    },
    {
     "name": "stderr",
     "output_type": "stream",
     "text": [
      "The `start_trial` operation took 0.643 s, which may be a performance bottleneck.\n"
     ]
    },
    {
     "name": "stdout",
     "output_type": "stream",
     "text": [
      "Trial _Trainable_db558_00000 reported split0_test_score=0.8070193020045853,split1_test_score=0.8047274625036641,split2_test_score=0.8035835462868018,split3_test_score=0.8030203857801017,average_test_score=0.8045876741437882,objective=0.8045876741437882 with parameters={'early_stopping': False, 'early_stop_type': <EarlyStopping.NO_EARLY_STOP: 7>, 'X_id': ObjectRef(ffffffffffffffffffffffffffffffffffffffff0100000008000000), 'y_id': ObjectRef(ffffffffffffffffffffffffffffffffffffffff0100000009000000), 'groups': None, 'cv': KFold(n_splits=4, random_state=None, shuffle=False), 'fit_params': {}, 'scoring': {'score': <function _passthrough_scorer at 0x000002986C6F50D0>}, 'max_iters': 1, 'return_train_score': False, 'n_jobs': 1, 'metric_name': 'average_test_score', 'n_neighbors': 11, 'estimator_list': [KNeighborsRegressor(n_jobs=-1)]}. This trial completed.\n"
     ]
    },
    {
     "name": "stderr",
     "output_type": "stream",
     "text": [
      "The `process_trial_result` operation took 1.558 s, which may be a performance bottleneck.\n",
      "Processing trial results took 1.560 s, which may be a performance bottleneck. Please consider reporting results less frequently to Ray Tune.\n",
      "The `process_trial` operation took 1.561 s, which may be a performance bottleneck.\n",
      "Checkpointing the experiment state took 113.195 s, which may be a performance bottleneck. Please ensure the `TUNE_GLOBAL_CHECKPOINT_S` environment variable is something significantly higher than this duration to ensure compute time is mostly spent on the main training loop.\n",
      "Trial Runner checkpointing failed: [WinError 183] Cannot create a file when that file already exists: 'C:\\\\Users\\\\KittheKat\\\\ray_results\\\\_Trainable_2021-02-15_17-28-14\\\\.tmp_generator' -> 'C:\\\\Users\\\\KittheKat\\\\ray_results\\\\_Trainable_2021-02-15_17-28-14\\\\basic-variant-state-2021-02-15_17-28-14.json'\n"
     ]
    },
    {
     "data": {
      "text/html": [
       "== Status ==<br>Memory usage on this node: 17.1/31.9 GiB<br>Using FIFO scheduling algorithm.<br>Resources requested: 8/16 CPUs, 0.4/1 GPUs, 0.0/13.57 GiB heap, 0.0/4.64 GiB objects<br>Result logdir: C:\\Users\\KittheKat\\ray_results\\_Trainable_2021-02-15_17-28-14<br>Number of trials: 5/5 (4 RUNNING, 1 TERMINATED)<br><br>"
      ],
      "text/plain": [
       "<IPython.core.display.HTML object>"
      ]
     },
     "metadata": {},
     "output_type": "display_data"
    },
    {
     "name": "stderr",
     "output_type": "stream",
     "text": [
      "The `on_step_begin` operation took 0.945 s, which may be a performance bottleneck.\n",
      "The `get_next_failed_trial` operation took 0.955 s, which may be a performance bottleneck.\n"
     ]
    },
    {
     "name": "stdout",
     "output_type": "stream",
     "text": [
      "Trial _Trainable_db558_00002 reported split0_test_score=0.8047373708677723,split1_test_score=0.8022934609645567,split2_test_score=0.8026419798556756,split3_test_score=0.8011765557721433,average_test_score=0.8027123418650369,objective=0.8027123418650369 with parameters={'early_stopping': False, 'early_stop_type': <EarlyStopping.NO_EARLY_STOP: 7>, 'X_id': ObjectRef(ffffffffffffffffffffffffffffffffffffffff0100000008000000), 'y_id': ObjectRef(ffffffffffffffffffffffffffffffffffffffff0100000009000000), 'groups': None, 'cv': KFold(n_splits=4, random_state=None, shuffle=False), 'fit_params': {}, 'scoring': {'score': <function _passthrough_scorer at 0x000002986C6F50D0>}, 'max_iters': 1, 'return_train_score': False, 'n_jobs': 1, 'metric_name': 'average_test_score', 'n_neighbors': 21, 'estimator_list': [KNeighborsRegressor(n_jobs=-1)]}. This trial completed.\n"
     ]
    },
    {
     "name": "stderr",
     "output_type": "stream",
     "text": [
      "Checkpointing the experiment state took 15.020 s, which may be a performance bottleneck. Please ensure the `TUNE_GLOBAL_CHECKPOINT_S` environment variable is something significantly higher than this duration to ensure compute time is mostly spent on the main training loop.\n",
      "Trial Runner checkpointing failed: [WinError 183] Cannot create a file when that file already exists: 'C:\\\\Users\\\\KittheKat\\\\ray_results\\\\_Trainable_2021-02-15_17-28-14\\\\.tmp_generator' -> 'C:\\\\Users\\\\KittheKat\\\\ray_results\\\\_Trainable_2021-02-15_17-28-14\\\\basic-variant-state-2021-02-15_17-28-14.json'\n"
     ]
    },
    {
     "data": {
      "text/html": [
       "== Status ==<br>Memory usage on this node: 16.3/31.9 GiB<br>Using FIFO scheduling algorithm.<br>Resources requested: 6/16 CPUs, 0.3/1 GPUs, 0.0/13.57 GiB heap, 0.0/4.64 GiB objects<br>Result logdir: C:\\Users\\KittheKat\\ray_results\\_Trainable_2021-02-15_17-28-14<br>Number of trials: 5/5 (3 RUNNING, 2 TERMINATED)<br><br>"
      ],
      "text/plain": [
       "<IPython.core.display.HTML object>"
      ]
     },
     "metadata": {},
     "output_type": "display_data"
    },
    {
     "name": "stdout",
     "output_type": "stream",
     "text": [
      "Trial _Trainable_db558_00003 reported split0_test_score=0.798619731128189,split1_test_score=0.7962843298862314,split2_test_score=0.7959358894703314,split3_test_score=0.7953211430923094,average_test_score=0.7965402733942654,objective=0.7965402733942654 with parameters={'early_stopping': False, 'early_stop_type': <EarlyStopping.NO_EARLY_STOP: 7>, 'X_id': ObjectRef(ffffffffffffffffffffffffffffffffffffffff0100000008000000), 'y_id': ObjectRef(ffffffffffffffffffffffffffffffffffffffff0100000009000000), 'groups': None, 'cv': KFold(n_splits=4, random_state=None, shuffle=False), 'fit_params': {}, 'scoring': {'score': <function _passthrough_scorer at 0x000002986C6F50D0>}, 'max_iters': 1, 'return_train_score': False, 'n_jobs': 1, 'metric_name': 'average_test_score', 'n_neighbors': 41, 'estimator_list': [KNeighborsRegressor(n_jobs=-1)]}. This trial completed.\n"
     ]
    },
    {
     "name": "stderr",
     "output_type": "stream",
     "text": [
      "Checkpointing the experiment state took 11.359 s, which may be a performance bottleneck. Please ensure the `TUNE_GLOBAL_CHECKPOINT_S` environment variable is something significantly higher than this duration to ensure compute time is mostly spent on the main training loop.\n",
      "Trial Runner checkpointing failed: [WinError 183] Cannot create a file when that file already exists: 'C:\\\\Users\\\\KittheKat\\\\ray_results\\\\_Trainable_2021-02-15_17-28-14\\\\.tmp_generator' -> 'C:\\\\Users\\\\KittheKat\\\\ray_results\\\\_Trainable_2021-02-15_17-28-14\\\\basic-variant-state-2021-02-15_17-28-14.json'\n"
     ]
    },
    {
     "data": {
      "text/html": [
       "== Status ==<br>Memory usage on this node: 15.3/31.9 GiB<br>Using FIFO scheduling algorithm.<br>Resources requested: 4/16 CPUs, 0.2/1 GPUs, 0.0/13.57 GiB heap, 0.0/4.64 GiB objects<br>Result logdir: C:\\Users\\KittheKat\\ray_results\\_Trainable_2021-02-15_17-28-14<br>Number of trials: 5/5 (2 RUNNING, 3 TERMINATED)<br><br>"
      ],
      "text/plain": [
       "<IPython.core.display.HTML object>"
      ]
     },
     "metadata": {},
     "output_type": "display_data"
    },
    {
     "name": "stdout",
     "output_type": "stream",
     "text": [
      "Trial _Trainable_db558_00004 reported split0_test_score=0.8015592205895563,split1_test_score=0.7995203593510085,split2_test_score=0.7990281333235592,split3_test_score=0.7981037617861465,average_test_score=0.7995528687625676,objective=0.7995528687625676 with parameters={'early_stopping': False, 'early_stop_type': <EarlyStopping.NO_EARLY_STOP: 7>, 'X_id': ObjectRef(ffffffffffffffffffffffffffffffffffffffff0100000008000000), 'y_id': ObjectRef(ffffffffffffffffffffffffffffffffffffffff0100000009000000), 'groups': None, 'cv': KFold(n_splits=4, random_state=None, shuffle=False), 'fit_params': {}, 'scoring': {'score': <function _passthrough_scorer at 0x000002986C6F50D0>}, 'max_iters': 1, 'return_train_score': False, 'n_jobs': 1, 'metric_name': 'average_test_score', 'n_neighbors': 31, 'estimator_list': [KNeighborsRegressor(n_jobs=-1)]}. This trial completed.\n"
     ]
    },
    {
     "name": "stderr",
     "output_type": "stream",
     "text": [
      "Checkpointing the experiment state took 12.651 s, which may be a performance bottleneck. Please ensure the `TUNE_GLOBAL_CHECKPOINT_S` environment variable is something significantly higher than this duration to ensure compute time is mostly spent on the main training loop.\n",
      "Trial Runner checkpointing failed: [WinError 183] Cannot create a file when that file already exists: 'C:\\\\Users\\\\KittheKat\\\\ray_results\\\\_Trainable_2021-02-15_17-28-14\\\\.tmp_generator' -> 'C:\\\\Users\\\\KittheKat\\\\ray_results\\\\_Trainable_2021-02-15_17-28-14\\\\basic-variant-state-2021-02-15_17-28-14.json'\n"
     ]
    },
    {
     "data": {
      "text/html": [
       "== Status ==<br>Memory usage on this node: 14.4/31.9 GiB<br>Using FIFO scheduling algorithm.<br>Resources requested: 2/16 CPUs, 0.1/1 GPUs, 0.0/13.57 GiB heap, 0.0/4.64 GiB objects<br>Result logdir: C:\\Users\\KittheKat\\ray_results\\_Trainable_2021-02-15_17-28-14<br>Number of trials: 5/5 (1 RUNNING, 4 TERMINATED)<br><br>"
      ],
      "text/plain": [
       "<IPython.core.display.HTML object>"
      ]
     },
     "metadata": {},
     "output_type": "display_data"
    },
    {
     "name": "stdout",
     "output_type": "stream",
     "text": [
      "Trial _Trainable_db558_00001 reported split0_test_score=0.798619731128189,split1_test_score=0.7962843298862314,split2_test_score=0.7959358894703314,split3_test_score=0.7953211430923094,average_test_score=0.7965402733942654,objective=0.7965402733942654 with parameters={'early_stopping': False, 'early_stop_type': <EarlyStopping.NO_EARLY_STOP: 7>, 'X_id': ObjectRef(ffffffffffffffffffffffffffffffffffffffff0100000008000000), 'y_id': ObjectRef(ffffffffffffffffffffffffffffffffffffffff0100000009000000), 'groups': None, 'cv': KFold(n_splits=4, random_state=None, shuffle=False), 'fit_params': {}, 'scoring': {'score': <function _passthrough_scorer at 0x000002986C6F50D0>}, 'max_iters': 1, 'return_train_score': False, 'n_jobs': 1, 'metric_name': 'average_test_score', 'n_neighbors': 41, 'estimator_list': [KNeighborsRegressor(n_jobs=-1)]}. This trial completed.\n"
     ]
    },
    {
     "name": "stderr",
     "output_type": "stream",
     "text": [
      "Checkpointing the experiment state took 13.801 s, which may be a performance bottleneck. Please ensure the `TUNE_GLOBAL_CHECKPOINT_S` environment variable is something significantly higher than this duration to ensure compute time is mostly spent on the main training loop.\n",
      "Trial Runner checkpointing failed: [WinError 183] Cannot create a file when that file already exists: 'C:\\\\Users\\\\KittheKat\\\\ray_results\\\\_Trainable_2021-02-15_17-28-14\\\\.tmp_generator' -> 'C:\\\\Users\\\\KittheKat\\\\ray_results\\\\_Trainable_2021-02-15_17-28-14\\\\basic-variant-state-2021-02-15_17-28-14.json'\n"
     ]
    },
    {
     "data": {
      "text/html": [
       "== Status ==<br>Memory usage on this node: 13.4/31.9 GiB<br>Using FIFO scheduling algorithm.<br>Resources requested: 0/16 CPUs, 0.0/1 GPUs, 0.0/13.57 GiB heap, 0.0/4.64 GiB objects<br>Result logdir: C:\\Users\\KittheKat\\ray_results\\_Trainable_2021-02-15_17-28-14<br>Number of trials: 5/5 (5 TERMINATED)<br><br>"
      ],
      "text/plain": [
       "<IPython.core.display.HTML object>"
      ]
     },
     "metadata": {},
     "output_type": "display_data"
    },
    {
     "name": "stderr",
     "output_type": "stream",
     "text": [
      "Trial Runner checkpointing failed: [WinError 183] Cannot create a file when that file already exists: 'C:\\\\Users\\\\KittheKat\\\\ray_results\\\\_Trainable_2021-02-15_17-28-14\\\\.tmp_generator' -> 'C:\\\\Users\\\\KittheKat\\\\ray_results\\\\_Trainable_2021-02-15_17-28-14\\\\basic-variant-state-2021-02-15_17-28-14.json'\n"
     ]
    },
    {
     "data": {
      "text/html": [
       "== Status ==<br>Memory usage on this node: 13.4/31.9 GiB<br>Using FIFO scheduling algorithm.<br>Resources requested: 0/16 CPUs, 0.0/1 GPUs, 0.0/13.57 GiB heap, 0.0/4.64 GiB objects<br>Result logdir: C:\\Users\\KittheKat\\ray_results\\_Trainable_2021-02-15_17-28-14<br>Number of trials: 5/5 (5 TERMINATED)<br><table>\n",
       "<thead>\n",
       "<tr><th>Trial name            </th><th>status    </th><th>loc  </th><th style=\"text-align: right;\">  n_neighbors</th><th style=\"text-align: right;\">  iter</th><th style=\"text-align: right;\">  total time (s)</th><th style=\"text-align: right;\">  split0_test_score</th><th style=\"text-align: right;\">  split1_test_score</th><th style=\"text-align: right;\">  split2_test_score</th></tr>\n",
       "</thead>\n",
       "<tbody>\n",
       "<tr><td>_Trainable_db558_00000</td><td>TERMINATED</td><td>     </td><td style=\"text-align: right;\">           11</td><td style=\"text-align: right;\">     1</td><td style=\"text-align: right;\">         301.131</td><td style=\"text-align: right;\">           0.807019</td><td style=\"text-align: right;\">           0.804727</td><td style=\"text-align: right;\">           0.803584</td></tr>\n",
       "<tr><td>_Trainable_db558_00001</td><td>TERMINATED</td><td>     </td><td style=\"text-align: right;\">           41</td><td style=\"text-align: right;\">     1</td><td style=\"text-align: right;\">         456.843</td><td style=\"text-align: right;\">           0.79862 </td><td style=\"text-align: right;\">           0.796284</td><td style=\"text-align: right;\">           0.795936</td></tr>\n",
       "<tr><td>_Trainable_db558_00002</td><td>TERMINATED</td><td>     </td><td style=\"text-align: right;\">           21</td><td style=\"text-align: right;\">     1</td><td style=\"text-align: right;\">         443.254</td><td style=\"text-align: right;\">           0.804737</td><td style=\"text-align: right;\">           0.802293</td><td style=\"text-align: right;\">           0.802642</td></tr>\n",
       "<tr><td>_Trainable_db558_00003</td><td>TERMINATED</td><td>     </td><td style=\"text-align: right;\">           41</td><td style=\"text-align: right;\">     1</td><td style=\"text-align: right;\">         452.329</td><td style=\"text-align: right;\">           0.79862 </td><td style=\"text-align: right;\">           0.796284</td><td style=\"text-align: right;\">           0.795936</td></tr>\n",
       "<tr><td>_Trainable_db558_00004</td><td>TERMINATED</td><td>     </td><td style=\"text-align: right;\">           31</td><td style=\"text-align: right;\">     1</td><td style=\"text-align: right;\">         453.878</td><td style=\"text-align: right;\">           0.801559</td><td style=\"text-align: right;\">           0.79952 </td><td style=\"text-align: right;\">           0.799028</td></tr>\n",
       "</tbody>\n",
       "</table><br><br>"
      ],
      "text/plain": [
       "<IPython.core.display.HTML object>"
      ]
     },
     "metadata": {},
     "output_type": "display_data"
    },
    {
     "name": "stderr",
     "output_type": "stream",
     "text": [
      "\u001b[2m\u001b[36m(pid=24860)\u001b[0m Windows fatal exception: access violation\n",
      "\u001b[2m\u001b[36m(pid=24860)\u001b[0m \n",
      "\u001b[2m\u001b[36m(pid=24860)\u001b[0m Windows fatal exception: access violation\n",
      "\u001b[2m\u001b[36m(pid=24860)\u001b[0m \n"
     ]
    },
    {
     "data": {
      "text/plain": [
       "TuneSearchCV(cv=4, estimator=KNeighborsRegressor(n_jobs=-1),\n",
       "             loggers=[<class 'ray.tune.logger.CSVLogger'>,\n",
       "                      <class 'ray.tune.logger.JsonLogger'>],\n",
       "             n_jobs=10, n_trials=5,\n",
       "             param_distributions={'n_neighbors': [1, 11, 21, 31, 41]},\n",
       "             scoring={'score': <function _passthrough_scorer at 0x000002986C6F50D0>},\n",
       "             sk_n_jobs=1, use_gpu=True, verbose=2)"
      ]
     },
     "execution_count": 97,
     "metadata": {},
     "output_type": "execute_result"
    }
   ],
   "source": [
    "grid.fit(X_train, y_train)"
   ]
  },
  {
   "cell_type": "code",
   "execution_count": 94,
   "metadata": {},
   "outputs": [],
   "source": [
    "import joblib"
   ]
  },
  {
   "cell_type": "code",
   "execution_count": 95,
   "metadata": {},
   "outputs": [
    {
     "data": {
      "text/plain": [
       "['grid_search.joblib']"
      ]
     },
     "execution_count": 95,
     "metadata": {},
     "output_type": "execute_result"
    }
   ],
   "source": [
    "joblib.dump(grid, 'grid_search.joblib')"
   ]
  },
  {
   "cell_type": "code",
   "execution_count": 98,
   "metadata": {},
   "outputs": [
    {
     "data": {
      "text/plain": [
       "{'n_neighbors': 11}"
      ]
     },
     "execution_count": 98,
     "metadata": {},
     "output_type": "execute_result"
    }
   ],
   "source": [
    "grid.best_params_"
   ]
  },
  {
   "cell_type": "markdown",
   "metadata": {},
   "source": [
    "Micro-tuning"
   ]
  },
  {
   "cell_type": "code",
   "execution_count": 111,
   "metadata": {},
   "outputs": [],
   "source": [
    "# This dataset takes a long time to train, so I've limited my choices and number of folds\n",
    "params = {\n",
    "    'n_neighbors': [11, 12, 13, 14, 15, 16]\n",
    "}"
   ]
  },
  {
   "cell_type": "code",
   "execution_count": 112,
   "metadata": {},
   "outputs": [],
   "source": [
    "microgrid = GridSearchCV(KNeighborsRegressor(), params, n_jobs=-1, verbose=2, cv=4)"
   ]
  },
  {
   "cell_type": "code",
   "execution_count": 113,
   "metadata": {},
   "outputs": [
    {
     "name": "stdout",
     "output_type": "stream",
     "text": [
      "Fitting 4 folds for each of 6 candidates, totalling 24 fits\n"
     ]
    },
    {
     "name": "stderr",
     "output_type": "stream",
     "text": [
      "[Parallel(n_jobs=-1)]: Using backend LokyBackend with 16 concurrent workers.\n",
      "[Parallel(n_jobs=-1)]: Done   6 out of  24 | elapsed:  5.3min remaining: 16.0min\n",
      "[Parallel(n_jobs=-1)]: Done  19 out of  24 | elapsed:  8.6min remaining:  2.3min\n",
      "[Parallel(n_jobs=-1)]: Done  24 out of  24 | elapsed:  8.8min finished\n"
     ]
    },
    {
     "data": {
      "text/plain": [
       "GridSearchCV(cv=4, estimator=KNeighborsRegressor(), n_jobs=-1,\n",
       "             param_grid={'n_neighbors': [11, 12, 13, 14, 15, 16]}, verbose=2)"
      ]
     },
     "execution_count": 113,
     "metadata": {},
     "output_type": "execute_result"
    }
   ],
   "source": [
    "microgrid.fit(X_train, y_train)"
   ]
  },
  {
   "cell_type": "code",
   "execution_count": 114,
   "metadata": {},
   "outputs": [
    {
     "data": {
      "text/plain": [
       "['microgrid_search.joblib']"
      ]
     },
     "execution_count": 114,
     "metadata": {},
     "output_type": "execute_result"
    }
   ],
   "source": [
    "joblib.dump(microgrid, 'microgrid_search.joblib')"
   ]
  },
  {
   "cell_type": "code",
   "execution_count": 115,
   "metadata": {},
   "outputs": [
    {
     "data": {
      "text/plain": [
       "{'n_neighbors': 13}"
      ]
     },
     "execution_count": 115,
     "metadata": {},
     "output_type": "execute_result"
    }
   ],
   "source": [
    "microgrid.best_params_"
   ]
  },
  {
   "cell_type": "markdown",
   "metadata": {},
   "source": [
    "f)\tUse the best or optimal parameter values to build a model, then compute the accuracy score for your estimator. \n"
   ]
  },
  {
   "cell_type": "code",
   "execution_count": 116,
   "metadata": {},
   "outputs": [],
   "source": [
    "knn_grid = microgrid.best_estimator_"
   ]
  },
  {
   "cell_type": "code",
   "execution_count": 117,
   "metadata": {},
   "outputs": [],
   "source": [
    "y_pred_train = knn_grid.predict(X_train)\n",
    "y_pred_test = knn_grid.predict(X_test)"
   ]
  },
  {
   "cell_type": "markdown",
   "metadata": {},
   "source": [
    "Training"
   ]
  },
  {
   "cell_type": "code",
   "execution_count": 118,
   "metadata": {},
   "outputs": [
    {
     "data": {
      "text/plain": [
       "0.8380230790180042"
      ]
     },
     "execution_count": 118,
     "metadata": {},
     "output_type": "execute_result"
    }
   ],
   "source": [
    "r2_score(y_train, y_pred_train)"
   ]
  },
  {
   "cell_type": "code",
   "execution_count": 119,
   "metadata": {},
   "outputs": [
    {
     "data": {
      "text/plain": [
       "0.10970058290931115"
      ]
     },
     "execution_count": 119,
     "metadata": {},
     "output_type": "execute_result"
    }
   ],
   "source": [
    "mean_squared_error(y_train, y_pred_train, squared=False)"
   ]
  },
  {
   "cell_type": "markdown",
   "metadata": {},
   "source": [
    "Test"
   ]
  },
  {
   "cell_type": "code",
   "execution_count": 120,
   "metadata": {},
   "outputs": [
    {
     "data": {
      "text/plain": [
       "0.8112129507922109"
      ]
     },
     "execution_count": 120,
     "metadata": {},
     "output_type": "execute_result"
    }
   ],
   "source": [
    "r2_score(y_test, y_pred_test)"
   ]
  },
  {
   "cell_type": "code",
   "execution_count": 121,
   "metadata": {},
   "outputs": [
    {
     "data": {
      "text/plain": [
       "0.11867419561831806"
      ]
     },
     "execution_count": 121,
     "metadata": {},
     "output_type": "execute_result"
    }
   ],
   "source": [
    "mean_squared_error(y_test, y_pred_test, squared=False)"
   ]
  },
  {
   "cell_type": "markdown",
   "metadata": {},
   "source": [
    "Discuss about overfitting for the model \n"
   ]
  },
  {
   "cell_type": "markdown",
   "metadata": {},
   "source": [
    "Given the most recent (KNN Grid) test scores, I do not believe this model is overfit. While the training RMSE and R2 have gone down from the out-of-the-box model, the test scores have improved slightly. The gap between test and training scores is not enough significant at this point to make a determination that the model is overfit.\n",
    "\n",
    "Overall, I was very impressed with this model. It is wildly computationally intensive, but I'm surprised that the model predicted so well using non-text (no artist name, etc.) features and without access to actual mp3/song data files. "
   ]
  },
  {
   "cell_type": "code",
   "execution_count": null,
   "metadata": {},
   "outputs": [],
   "source": []
  }
 ],
 "metadata": {
  "kernelspec": {
   "display_name": "Python 3",
   "language": "python",
   "name": "python3"
  },
  "language_info": {
   "codemirror_mode": {
    "name": "ipython",
    "version": 3
   },
   "file_extension": ".py",
   "mimetype": "text/x-python",
   "name": "python",
   "nbconvert_exporter": "python",
   "pygments_lexer": "ipython3",
   "version": "3.8.1"
  }
 },
 "nbformat": 4,
 "nbformat_minor": 4
}
